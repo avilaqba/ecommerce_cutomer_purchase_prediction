{
 "cells": [
  {
   "cell_type": "markdown",
   "id": "2a9fcc19",
   "metadata": {},
   "source": [
    " "
   ]
  },
  {
   "cell_type": "markdown",
   "id": "27df040c",
   "metadata": {},
   "source": [
    "### Predict the probability of a customer to order a product from the given currentbugroupname in the next 3 days (test period)"
   ]
  },
  {
   "cell_type": "code",
   "execution_count": 1,
   "id": "9382b5d3",
   "metadata": {},
   "outputs": [],
   "source": [
    "# importing necessary libraries\n",
    "import os\n",
    "import pandas as pd\n",
    "import numpy as np\n",
    "from functools import reduce"
   ]
  },
  {
   "cell_type": "markdown",
   "id": "752108ef",
   "metadata": {},
   "source": [
    "## 1. EDA and Data Cleaning"
   ]
  },
  {
   "cell_type": "markdown",
   "id": "056ab776",
   "metadata": {},
   "source": [
    "In this section general exploratory data analysis was done in order to understand the data. Moreover, data cleaning was performed."
   ]
  },
  {
   "cell_type": "markdown",
   "id": "45b680cc",
   "metadata": {},
   "source": [
    "### df_basket"
   ]
  },
  {
   "cell_type": "code",
   "execution_count": 2,
   "id": "4272d6b9",
   "metadata": {},
   "outputs": [
    {
     "data": {
      "text/html": [
       "<div>\n",
       "<style scoped>\n",
       "    .dataframe tbody tr th:only-of-type {\n",
       "        vertical-align: middle;\n",
       "    }\n",
       "\n",
       "    .dataframe tbody tr th {\n",
       "        vertical-align: top;\n",
       "    }\n",
       "\n",
       "    .dataframe thead th {\n",
       "        text-align: right;\n",
       "    }\n",
       "</style>\n",
       "<table border=\"1\" class=\"dataframe\">\n",
       "  <thead>\n",
       "    <tr style=\"text-align: right;\">\n",
       "      <th></th>\n",
       "      <th>userid</th>\n",
       "      <th>contentid</th>\n",
       "      <th>partition_date</th>\n",
       "      <th>addtobasket_count</th>\n",
       "    </tr>\n",
       "  </thead>\n",
       "  <tbody>\n",
       "    <tr>\n",
       "      <th>0</th>\n",
       "      <td>42366578</td>\n",
       "      <td>41474373</td>\n",
       "      <td>2020-10-31 03:00:00.000</td>\n",
       "      <td>1</td>\n",
       "    </tr>\n",
       "    <tr>\n",
       "      <th>1</th>\n",
       "      <td>35956834</td>\n",
       "      <td>43278838</td>\n",
       "      <td>2020-10-31 03:00:00.000</td>\n",
       "      <td>1</td>\n",
       "    </tr>\n",
       "  </tbody>\n",
       "</table>\n",
       "</div>"
      ],
      "text/plain": [
       "     userid  contentid           partition_date  addtobasket_count\n",
       "0  42366578   41474373  2020-10-31 03:00:00.000                  1\n",
       "1  35956834   43278838  2020-10-31 03:00:00.000                  1"
      ]
     },
     "execution_count": 2,
     "metadata": {},
     "output_type": "execute_result"
    }
   ],
   "source": [
    "df_basket = pd.read_csv('df_basket.csv')\n",
    "df_basket.head(2)"
   ]
  },
  {
   "cell_type": "code",
   "execution_count": 3,
   "id": "01f2076e",
   "metadata": {},
   "outputs": [
    {
     "name": "stdout",
     "output_type": "stream",
     "text": [
      "<class 'pandas.core.frame.DataFrame'>\n",
      "RangeIndex: 406268 entries, 0 to 406267\n",
      "Data columns (total 4 columns):\n",
      " #   Column             Non-Null Count   Dtype \n",
      "---  ------             --------------   ----- \n",
      " 0   userid             406268 non-null  int64 \n",
      " 1   contentid          406268 non-null  int64 \n",
      " 2   partition_date     406268 non-null  object\n",
      " 3   addtobasket_count  406268 non-null  int64 \n",
      "dtypes: int64(3), object(1)\n",
      "memory usage: 12.4+ MB\n"
     ]
    }
   ],
   "source": [
    "df_basket.info()"
   ]
  },
  {
   "cell_type": "code",
   "execution_count": 4,
   "id": "8fab4196",
   "metadata": {},
   "outputs": [
    {
     "data": {
      "text/plain": [
       "userid               0\n",
       "contentid            0\n",
       "partition_date       0\n",
       "addtobasket_count    0\n",
       "dtype: int64"
      ]
     },
     "execution_count": 4,
     "metadata": {},
     "output_type": "execute_result"
    }
   ],
   "source": [
    "df_basket.isna().sum()"
   ]
  },
  {
   "cell_type": "code",
   "execution_count": 5,
   "id": "c9ccf428",
   "metadata": {},
   "outputs": [
    {
     "data": {
      "text/plain": [
       "False"
      ]
     },
     "execution_count": 5,
     "metadata": {},
     "output_type": "execute_result"
    }
   ],
   "source": [
    "df_basket.duplicated().any()"
   ]
  },
  {
   "cell_type": "code",
   "execution_count": 6,
   "id": "3128884c",
   "metadata": {},
   "outputs": [
    {
     "data": {
      "image/png": "[encoded data removed]",
      "text/plain": [
       "<Figure size 432x288 with 1 Axes>"
      ]
     },
     "metadata": {
      "needs_background": "light"
     },
     "output_type": "display_data"
    }
   ],
   "source": [
    "df_basket.addtobasket_count.plot();"
   ]
  },
  {
   "cell_type": "code",
   "execution_count": 7,
   "id": "e5f84550",
   "metadata": {
    "scrolled": true
   },
   "outputs": [
    {
     "data": {
      "image/png": "[encoded data removed]",
      "text/plain": [
       "<Figure size 432x288 with 1 Axes>"
      ]
     },
     "metadata": {
      "needs_background": "light"
     },
     "output_type": "display_data"
    }
   ],
   "source": [
    "df_basket.addtobasket_count.hist();"
   ]
  },
  {
   "cell_type": "markdown",
   "id": "dcce902b",
   "metadata": {},
   "source": [
    "### df_fav"
   ]
  },
  {
   "cell_type": "code",
   "execution_count": 8,
   "id": "3669a648",
   "metadata": {},
   "outputs": [
    {
     "data": {
      "text/html": [
       "<div>\n",
       "<style scoped>\n",
       "    .dataframe tbody tr th:only-of-type {\n",
       "        vertical-align: middle;\n",
       "    }\n",
       "\n",
       "    .dataframe tbody tr th {\n",
       "        vertical-align: top;\n",
       "    }\n",
       "\n",
       "    .dataframe thead th {\n",
       "        text-align: right;\n",
       "    }\n",
       "</style>\n",
       "<table border=\"1\" class=\"dataframe\">\n",
       "  <thead>\n",
       "    <tr style=\"text-align: right;\">\n",
       "      <th></th>\n",
       "      <th>userid</th>\n",
       "      <th>contentid</th>\n",
       "      <th>partition_date</th>\n",
       "      <th>fav_count</th>\n",
       "    </tr>\n",
       "  </thead>\n",
       "  <tbody>\n",
       "    <tr>\n",
       "      <th>0</th>\n",
       "      <td>17627638</td>\n",
       "      <td>32509331</td>\n",
       "      <td>2020-10-02 03:00:00.000</td>\n",
       "      <td>1</td>\n",
       "    </tr>\n",
       "    <tr>\n",
       "      <th>1</th>\n",
       "      <td>7757008</td>\n",
       "      <td>31759112</td>\n",
       "      <td>2020-10-08 03:00:00.000</td>\n",
       "      <td>1</td>\n",
       "    </tr>\n",
       "  </tbody>\n",
       "</table>\n",
       "</div>"
      ],
      "text/plain": [
       "     userid  contentid           partition_date  fav_count\n",
       "0  17627638   32509331  2020-10-02 03:00:00.000          1\n",
       "1   7757008   31759112  2020-10-08 03:00:00.000          1"
      ]
     },
     "execution_count": 8,
     "metadata": {},
     "output_type": "execute_result"
    }
   ],
   "source": [
    "df_fav = pd.read_csv('df_fav.csv')\n",
    "df_fav.head(2)"
   ]
  },
  {
   "cell_type": "code",
   "execution_count": 9,
   "id": "11b1815c",
   "metadata": {},
   "outputs": [
    {
     "name": "stdout",
     "output_type": "stream",
     "text": [
      "<class 'pandas.core.frame.DataFrame'>\n",
      "RangeIndex: 733827 entries, 0 to 733826\n",
      "Data columns (total 4 columns):\n",
      " #   Column          Non-Null Count   Dtype \n",
      "---  ------          --------------   ----- \n",
      " 0   userid          733827 non-null  int64 \n",
      " 1   contentid       733827 non-null  int64 \n",
      " 2   partition_date  733827 non-null  object\n",
      " 3   fav_count       733827 non-null  int64 \n",
      "dtypes: int64(3), object(1)\n",
      "memory usage: 22.4+ MB\n"
     ]
    }
   ],
   "source": [
    "df_fav.info()"
   ]
  },
  {
   "cell_type": "code",
   "execution_count": 10,
   "id": "ba50e2b1",
   "metadata": {},
   "outputs": [
    {
     "data": {
      "text/plain": [
       "userid            0\n",
       "contentid         0\n",
       "partition_date    0\n",
       "fav_count         0\n",
       "dtype: int64"
      ]
     },
     "execution_count": 10,
     "metadata": {},
     "output_type": "execute_result"
    }
   ],
   "source": [
    "df_fav.isna().sum()"
   ]
  },
  {
   "cell_type": "code",
   "execution_count": 11,
   "id": "af8343f7",
   "metadata": {},
   "outputs": [
    {
     "data": {
      "text/plain": [
       "False"
      ]
     },
     "execution_count": 11,
     "metadata": {},
     "output_type": "execute_result"
    }
   ],
   "source": [
    "df_fav.duplicated().any()"
   ]
  },
  {
   "cell_type": "code",
   "execution_count": 12,
   "id": "1c3478b1",
   "metadata": {},
   "outputs": [
    {
     "data": {
      "image/png": "[encoded data removed]",
      "text/plain": [
       "<Figure size 432x288 with 1 Axes>"
      ]
     },
     "metadata": {
      "needs_background": "light"
     },
     "output_type": "display_data"
    }
   ],
   "source": [
    "df_fav.fav_count.plot();"
   ]
  },
  {
   "cell_type": "code",
   "execution_count": 13,
   "id": "2189ed04",
   "metadata": {},
   "outputs": [
    {
     "data": {
      "image/png": "[encoded data removed]",
      "text/plain": [
       "<Figure size 432x288 with 1 Axes>"
      ]
     },
     "metadata": {
      "needs_background": "light"
     },
     "output_type": "display_data"
    }
   ],
   "source": [
    "df_fav.fav_count.hist();"
   ]
  },
  {
   "cell_type": "markdown",
   "id": "4ef7a7f9",
   "metadata": {},
   "source": [
    "### df_visit"
   ]
  },
  {
   "cell_type": "code",
   "execution_count": 14,
   "id": "b85121d7",
   "metadata": {},
   "outputs": [
    {
     "data": {
      "text/html": [
       "<div>\n",
       "<style scoped>\n",
       "    .dataframe tbody tr th:only-of-type {\n",
       "        vertical-align: middle;\n",
       "    }\n",
       "\n",
       "    .dataframe tbody tr th {\n",
       "        vertical-align: top;\n",
       "    }\n",
       "\n",
       "    .dataframe thead th {\n",
       "        text-align: right;\n",
       "    }\n",
       "</style>\n",
       "<table border=\"1\" class=\"dataframe\">\n",
       "  <thead>\n",
       "    <tr style=\"text-align: right;\">\n",
       "      <th></th>\n",
       "      <th>userid</th>\n",
       "      <th>contentid</th>\n",
       "      <th>partition_date</th>\n",
       "      <th>productdetailcount</th>\n",
       "    </tr>\n",
       "  </thead>\n",
       "  <tbody>\n",
       "    <tr>\n",
       "      <th>0</th>\n",
       "      <td>24692048</td>\n",
       "      <td>2837094.0</td>\n",
       "      <td>2020-10-04 03:00:00.000</td>\n",
       "      <td>1</td>\n",
       "    </tr>\n",
       "    <tr>\n",
       "      <th>1</th>\n",
       "      <td>24692048</td>\n",
       "      <td>33346848.0</td>\n",
       "      <td>2020-10-01 03:00:00.000</td>\n",
       "      <td>1</td>\n",
       "    </tr>\n",
       "  </tbody>\n",
       "</table>\n",
       "</div>"
      ],
      "text/plain": [
       "     userid   contentid           partition_date  productdetailcount\n",
       "0  24692048   2837094.0  2020-10-04 03:00:00.000                   1\n",
       "1  24692048  33346848.0  2020-10-01 03:00:00.000                   1"
      ]
     },
     "execution_count": 14,
     "metadata": {},
     "output_type": "execute_result"
    }
   ],
   "source": [
    "df_visit = pd.read_csv('df_visit.csv')\n",
    "df_visit.head(2)"
   ]
  },
  {
   "cell_type": "code",
   "execution_count": 15,
   "id": "79f68354",
   "metadata": {},
   "outputs": [
    {
     "name": "stdout",
     "output_type": "stream",
     "text": [
      "<class 'pandas.core.frame.DataFrame'>\n",
      "RangeIndex: 14389920 entries, 0 to 14389919\n",
      "Data columns (total 4 columns):\n",
      " #   Column              Dtype  \n",
      "---  ------              -----  \n",
      " 0   userid              int64  \n",
      " 1   contentid           float64\n",
      " 2   partition_date      object \n",
      " 3   productdetailcount  int64  \n",
      "dtypes: float64(1), int64(2), object(1)\n",
      "memory usage: 439.1+ MB\n"
     ]
    }
   ],
   "source": [
    "df_visit.info()"
   ]
  },
  {
   "cell_type": "code",
   "execution_count": 16,
   "id": "32879589",
   "metadata": {},
   "outputs": [
    {
     "data": {
      "text/plain": [
       "userid                0.000000\n",
       "contentid             0.000021\n",
       "partition_date        0.000000\n",
       "productdetailcount    0.000000\n",
       "dtype: float64"
      ]
     },
     "execution_count": 16,
     "metadata": {},
     "output_type": "execute_result"
    }
   ],
   "source": [
    "df_visit.isna().sum()/len(df_visit)"
   ]
  },
  {
   "cell_type": "markdown",
   "id": "18958023",
   "metadata": {},
   "source": [
    "* The number of nan values for contentid are significantly small, thus we can drop them."
   ]
  },
  {
   "cell_type": "code",
   "execution_count": 17,
   "id": "b6b618cb",
   "metadata": {},
   "outputs": [],
   "source": [
    "df_visit.dropna(inplace=True)"
   ]
  },
  {
   "cell_type": "code",
   "execution_count": 18,
   "id": "92360bf5",
   "metadata": {},
   "outputs": [
    {
     "data": {
      "text/plain": [
       "False"
      ]
     },
     "execution_count": 18,
     "metadata": {},
     "output_type": "execute_result"
    }
   ],
   "source": [
    "df_visit.duplicated().any()"
   ]
  },
  {
   "cell_type": "code",
   "execution_count": 19,
   "id": "22f60140",
   "metadata": {},
   "outputs": [
    {
     "data": {
      "image/png": "[encoded data removed]",
      "text/plain": [
       "<Figure size 432x288 with 1 Axes>"
      ]
     },
     "metadata": {
      "needs_background": "light"
     },
     "output_type": "display_data"
    }
   ],
   "source": [
    "df_visit.productdetailcount.plot();"
   ]
  },
  {
   "cell_type": "markdown",
   "id": "bc7ba5e2",
   "metadata": {},
   "source": [
    "* It seems there is one anomoly in productdetailcount "
   ]
  },
  {
   "cell_type": "code",
   "execution_count": 20,
   "id": "85857766",
   "metadata": {},
   "outputs": [
    {
     "data": {
      "image/png": "[encoded data removed]",
      "text/plain": [
       "<Figure size 432x288 with 1 Axes>"
      ]
     },
     "metadata": {
      "needs_background": "light"
     },
     "output_type": "display_data"
    }
   ],
   "source": [
    "df_visit.productdetailcount.hist();"
   ]
  },
  {
   "cell_type": "code",
   "execution_count": 21,
   "id": "a7e61085",
   "metadata": {},
   "outputs": [
    {
     "data": {
      "text/html": [
       "<div>\n",
       "<style scoped>\n",
       "    .dataframe tbody tr th:only-of-type {\n",
       "        vertical-align: middle;\n",
       "    }\n",
       "\n",
       "    .dataframe tbody tr th {\n",
       "        vertical-align: top;\n",
       "    }\n",
       "\n",
       "    .dataframe thead th {\n",
       "        text-align: right;\n",
       "    }\n",
       "</style>\n",
       "<table border=\"1\" class=\"dataframe\">\n",
       "  <thead>\n",
       "    <tr style=\"text-align: right;\">\n",
       "      <th></th>\n",
       "      <th>userid</th>\n",
       "      <th>contentid</th>\n",
       "      <th>productdetailcount</th>\n",
       "    </tr>\n",
       "  </thead>\n",
       "  <tbody>\n",
       "    <tr>\n",
       "      <th>count</th>\n",
       "      <td>1.438962e+07</td>\n",
       "      <td>1.438962e+07</td>\n",
       "      <td>1.438962e+07</td>\n",
       "    </tr>\n",
       "    <tr>\n",
       "      <th>mean</th>\n",
       "      <td>1.583412e+07</td>\n",
       "      <td>3.567346e+07</td>\n",
       "      <td>1.521755e+00</td>\n",
       "    </tr>\n",
       "    <tr>\n",
       "      <th>std</th>\n",
       "      <td>1.029175e+07</td>\n",
       "      <td>1.525444e+07</td>\n",
       "      <td>1.507323e+00</td>\n",
       "    </tr>\n",
       "    <tr>\n",
       "      <th>min</th>\n",
       "      <td>1.281000e+04</td>\n",
       "      <td>4.867600e+04</td>\n",
       "      <td>1.000000e+00</td>\n",
       "    </tr>\n",
       "    <tr>\n",
       "      <th>25%</th>\n",
       "      <td>8.687280e+06</td>\n",
       "      <td>3.235575e+07</td>\n",
       "      <td>1.000000e+00</td>\n",
       "    </tr>\n",
       "    <tr>\n",
       "      <th>50%</th>\n",
       "      <td>1.379907e+07</td>\n",
       "      <td>3.940772e+07</td>\n",
       "      <td>1.000000e+00</td>\n",
       "    </tr>\n",
       "    <tr>\n",
       "      <th>75%</th>\n",
       "      <td>2.193210e+07</td>\n",
       "      <td>4.694214e+07</td>\n",
       "      <td>1.000000e+00</td>\n",
       "    </tr>\n",
       "    <tr>\n",
       "      <th>max</th>\n",
       "      <td>4.462565e+07</td>\n",
       "      <td>5.600082e+07</td>\n",
       "      <td>1.602000e+03</td>\n",
       "    </tr>\n",
       "  </tbody>\n",
       "</table>\n",
       "</div>"
      ],
      "text/plain": [
       "             userid     contentid  productdetailcount\n",
       "count  1.438962e+07  1.438962e+07        1.438962e+07\n",
       "mean   1.583412e+07  3.567346e+07        1.521755e+00\n",
       "std    1.029175e+07  1.525444e+07        1.507323e+00\n",
       "min    1.281000e+04  4.867600e+04        1.000000e+00\n",
       "25%    8.687280e+06  3.235575e+07        1.000000e+00\n",
       "50%    1.379907e+07  3.940772e+07        1.000000e+00\n",
       "75%    2.193210e+07  4.694214e+07        1.000000e+00\n",
       "max    4.462565e+07  5.600082e+07        1.602000e+03"
      ]
     },
     "execution_count": 21,
     "metadata": {},
     "output_type": "execute_result"
    }
   ],
   "source": [
    "df_visit.describe()"
   ]
  },
  {
   "cell_type": "code",
   "execution_count": 22,
   "id": "f66eb0e7",
   "metadata": {},
   "outputs": [
    {
     "data": {
      "image/png": "[encoded data removed]",
      "text/plain": [
       "<Figure size 432x288 with 1 Axes>"
      ]
     },
     "metadata": {
      "needs_background": "light"
     },
     "output_type": "display_data"
    }
   ],
   "source": [
    "temp = df_visit.copy()\n",
    "temp.loc[temp.productdetailcount>200, 'productdetailcount'] = 200\n",
    "temp.productdetailcount.plot();"
   ]
  },
  {
   "cell_type": "markdown",
   "id": "0369ad7b",
   "metadata": {},
   "source": [
    "### df_trx"
   ]
  },
  {
   "cell_type": "code",
   "execution_count": 23,
   "id": "8b98ce5d",
   "metadata": {},
   "outputs": [
    {
     "data": {
      "text/html": [
       "<div>\n",
       "<style scoped>\n",
       "    .dataframe tbody tr th:only-of-type {\n",
       "        vertical-align: middle;\n",
       "    }\n",
       "\n",
       "    .dataframe tbody tr th {\n",
       "        vertical-align: top;\n",
       "    }\n",
       "\n",
       "    .dataframe thead th {\n",
       "        text-align: right;\n",
       "    }\n",
       "</style>\n",
       "<table border=\"1\" class=\"dataframe\">\n",
       "  <thead>\n",
       "    <tr style=\"text-align: right;\">\n",
       "      <th></th>\n",
       "      <th>userid</th>\n",
       "      <th>contentid</th>\n",
       "      <th>orderdate</th>\n",
       "      <th>quantity</th>\n",
       "      <th>price</th>\n",
       "    </tr>\n",
       "  </thead>\n",
       "  <tbody>\n",
       "    <tr>\n",
       "      <th>0</th>\n",
       "      <td>16049866</td>\n",
       "      <td>49489653.0</td>\n",
       "      <td>2020-10-31 03:00:00.000</td>\n",
       "      <td>1</td>\n",
       "      <td>199.95</td>\n",
       "    </tr>\n",
       "    <tr>\n",
       "      <th>1</th>\n",
       "      <td>14167874</td>\n",
       "      <td>42484094.0</td>\n",
       "      <td>2020-10-31 03:00:00.000</td>\n",
       "      <td>1</td>\n",
       "      <td>69.99</td>\n",
       "    </tr>\n",
       "  </tbody>\n",
       "</table>\n",
       "</div>"
      ],
      "text/plain": [
       "     userid   contentid                orderdate  quantity   price\n",
       "0  16049866  49489653.0  2020-10-31 03:00:00.000         1  199.95\n",
       "1  14167874  42484094.0  2020-10-31 03:00:00.000         1   69.99"
      ]
     },
     "execution_count": 23,
     "metadata": {},
     "output_type": "execute_result"
    }
   ],
   "source": [
    "df_trx = pd.read_csv('df_trx.csv')\n",
    "df_trx.head(2)"
   ]
  },
  {
   "cell_type": "code",
   "execution_count": 24,
   "id": "1a78b44f",
   "metadata": {},
   "outputs": [
    {
     "name": "stdout",
     "output_type": "stream",
     "text": [
      "<class 'pandas.core.frame.DataFrame'>\n",
      "RangeIndex: 381536 entries, 0 to 381535\n",
      "Data columns (total 5 columns):\n",
      " #   Column     Non-Null Count   Dtype  \n",
      "---  ------     --------------   -----  \n",
      " 0   userid     381536 non-null  int64  \n",
      " 1   contentid  381525 non-null  float64\n",
      " 2   orderdate  381536 non-null  object \n",
      " 3   quantity   381536 non-null  int64  \n",
      " 4   price      381536 non-null  float64\n",
      "dtypes: float64(2), int64(2), object(1)\n",
      "memory usage: 14.6+ MB\n"
     ]
    }
   ],
   "source": [
    "df_trx.info()"
   ]
  },
  {
   "cell_type": "code",
   "execution_count": 25,
   "id": "99a13618",
   "metadata": {},
   "outputs": [
    {
     "data": {
      "text/plain": [
       "userid        0\n",
       "contentid    11\n",
       "orderdate     0\n",
       "quantity      0\n",
       "price         0\n",
       "dtype: int64"
      ]
     },
     "execution_count": 25,
     "metadata": {},
     "output_type": "execute_result"
    }
   ],
   "source": [
    "df_trx.isna().sum()"
   ]
  },
  {
   "cell_type": "code",
   "execution_count": 26,
   "id": "7f93d11a",
   "metadata": {},
   "outputs": [
    {
     "data": {
      "text/plain": [
       "(31027,)"
      ]
     },
     "execution_count": 26,
     "metadata": {},
     "output_type": "execute_result"
    }
   ],
   "source": [
    "df_trx[~df_trx.contentid.isna()].userid.unique().shape"
   ]
  },
  {
   "cell_type": "code",
   "execution_count": 27,
   "id": "c76f70c1",
   "metadata": {
    "scrolled": true
   },
   "outputs": [
    {
     "data": {
      "text/plain": [
       "(31027,)"
      ]
     },
     "execution_count": 27,
     "metadata": {},
     "output_type": "execute_result"
    }
   ],
   "source": [
    "df_trx.userid.unique().shape"
   ]
  },
  {
   "cell_type": "markdown",
   "id": "bb55b39b",
   "metadata": {},
   "source": [
    "* We won't lose any userid by droping these 11 nan values."
   ]
  },
  {
   "cell_type": "code",
   "execution_count": 28,
   "id": "b166a290",
   "metadata": {},
   "outputs": [],
   "source": [
    "df_trx.dropna(inplace=True)"
   ]
  },
  {
   "cell_type": "code",
   "execution_count": 29,
   "id": "8c4dc973",
   "metadata": {},
   "outputs": [
    {
     "data": {
      "text/plain": [
       "True"
      ]
     },
     "execution_count": 29,
     "metadata": {},
     "output_type": "execute_result"
    }
   ],
   "source": [
    "df_trx.duplicated().any()"
   ]
  },
  {
   "cell_type": "code",
   "execution_count": 30,
   "id": "952d4999",
   "metadata": {},
   "outputs": [],
   "source": [
    "df_trx.drop_duplicates(inplace=True)"
   ]
  },
  {
   "cell_type": "code",
   "execution_count": 31,
   "id": "d5bce0b0",
   "metadata": {},
   "outputs": [
    {
     "data": {
      "image/png": "[encoded data removed]",
      "text/plain": [
       "<Figure size 432x288 with 1 Axes>"
      ]
     },
     "metadata": {
      "needs_background": "light"
     },
     "output_type": "display_data"
    }
   ],
   "source": [
    "df_trx['total_pur'] = df_trx.groupby(['userid','orderdate']).price.transform('sum')\n",
    "df_trx['total_pur'].plot();"
   ]
  },
  {
   "cell_type": "code",
   "execution_count": 32,
   "id": "acaa9005",
   "metadata": {},
   "outputs": [
    {
     "data": {
      "text/plain": [
       "(378938,)"
      ]
     },
     "execution_count": 32,
     "metadata": {},
     "output_type": "execute_result"
    }
   ],
   "source": [
    "df_trx['product_count'] = df_trx.groupby(['userid','orderdate']).contentid.transform('count')\n",
    "df_trx['product_count'].shape"
   ]
  },
  {
   "cell_type": "code",
   "execution_count": 33,
   "id": "5608729f",
   "metadata": {},
   "outputs": [
    {
     "data": {
      "image/png": "[encoded data removed]",
      "text/plain": [
       "<Figure size 432x288 with 1 Axes>"
      ]
     },
     "metadata": {
      "needs_background": "light"
     },
     "output_type": "display_data"
    }
   ],
   "source": [
    "df_trx['product_count'].plot();"
   ]
  },
  {
   "cell_type": "code",
   "execution_count": 34,
   "id": "e67c993a",
   "metadata": {},
   "outputs": [
    {
     "data": {
      "image/png": "[encoded data removed]",
      "text/plain": [
       "<Figure size 432x288 with 1 Axes>"
      ]
     },
     "metadata": {
      "needs_background": "light"
     },
     "output_type": "display_data"
    }
   ],
   "source": [
    "df_trx.quantity.plot();"
   ]
  },
  {
   "cell_type": "code",
   "execution_count": 35,
   "id": "30ed2f82",
   "metadata": {},
   "outputs": [
    {
     "data": {
      "image/png": "[encoded data removed]",
      "text/plain": [
       "<Figure size 432x288 with 1 Axes>"
      ]
     },
     "metadata": {
      "needs_background": "light"
     },
     "output_type": "display_data"
    }
   ],
   "source": [
    "df_trx.quantity.hist();"
   ]
  },
  {
   "cell_type": "code",
   "execution_count": 36,
   "id": "8e9df7e9",
   "metadata": {},
   "outputs": [
    {
     "data": {
      "text/plain": [
       "<AxesSubplot:>"
      ]
     },
     "execution_count": 36,
     "metadata": {},
     "output_type": "execute_result"
    },
    {
     "data": {
      "image/png": "[encoded data removed]",
      "text/plain": [
       "<Figure size 432x288 with 1 Axes>"
      ]
     },
     "metadata": {
      "needs_background": "light"
     },
     "output_type": "display_data"
    }
   ],
   "source": [
    "df_trx.price.hist()"
   ]
  },
  {
   "cell_type": "markdown",
   "id": "68ed2276",
   "metadata": {},
   "source": [
    "### df_search_term"
   ]
  },
  {
   "cell_type": "code",
   "execution_count": 37,
   "id": "0ab0a8ab",
   "metadata": {},
   "outputs": [
    {
     "data": {
      "text/html": [
       "<div>\n",
       "<style scoped>\n",
       "    .dataframe tbody tr th:only-of-type {\n",
       "        vertical-align: middle;\n",
       "    }\n",
       "\n",
       "    .dataframe tbody tr th {\n",
       "        vertical-align: top;\n",
       "    }\n",
       "\n",
       "    .dataframe thead th {\n",
       "        text-align: right;\n",
       "    }\n",
       "</style>\n",
       "<table border=\"1\" class=\"dataframe\">\n",
       "  <thead>\n",
       "    <tr style=\"text-align: right;\">\n",
       "      <th></th>\n",
       "      <th>userid</th>\n",
       "      <th>partition_date</th>\n",
       "      <th>search_term</th>\n",
       "    </tr>\n",
       "  </thead>\n",
       "  <tbody>\n",
       "    <tr>\n",
       "      <th>0</th>\n",
       "      <td>29474088</td>\n",
       "      <td>2020-10-05</td>\n",
       "      <td>tum urunler</td>\n",
       "    </tr>\n",
       "    <tr>\n",
       "      <th>1</th>\n",
       "      <td>29474088</td>\n",
       "      <td>2020-10-07</td>\n",
       "      <td>nike</td>\n",
       "    </tr>\n",
       "  </tbody>\n",
       "</table>\n",
       "</div>"
      ],
      "text/plain": [
       "     userid partition_date  search_term\n",
       "0  29474088     2020-10-05  tum urunler\n",
       "1  29474088     2020-10-07         nike"
      ]
     },
     "execution_count": 37,
     "metadata": {},
     "output_type": "execute_result"
    }
   ],
   "source": [
    "df_search_term = pd.read_csv('df_search_term.csv')\n",
    "df_search_term.head(2)"
   ]
  },
  {
   "cell_type": "code",
   "execution_count": 38,
   "id": "f5050fae",
   "metadata": {},
   "outputs": [
    {
     "name": "stdout",
     "output_type": "stream",
     "text": [
      "<class 'pandas.core.frame.DataFrame'>\n",
      "RangeIndex: 1281753 entries, 0 to 1281752\n",
      "Data columns (total 3 columns):\n",
      " #   Column          Non-Null Count    Dtype \n",
      "---  ------          --------------    ----- \n",
      " 0   userid          1281753 non-null  int64 \n",
      " 1   partition_date  1281753 non-null  object\n",
      " 2   search_term     1281752 non-null  object\n",
      "dtypes: int64(1), object(2)\n",
      "memory usage: 29.3+ MB\n"
     ]
    }
   ],
   "source": [
    "df_search_term.info()"
   ]
  },
  {
   "cell_type": "code",
   "execution_count": 39,
   "id": "a9534224",
   "metadata": {},
   "outputs": [
    {
     "data": {
      "text/plain": [
       "userid            0\n",
       "partition_date    0\n",
       "search_term       1\n",
       "dtype: int64"
      ]
     },
     "execution_count": 39,
     "metadata": {},
     "output_type": "execute_result"
    }
   ],
   "source": [
    "df_search_term.isna().sum()"
   ]
  },
  {
   "cell_type": "markdown",
   "id": "c4006c79",
   "metadata": {},
   "source": [
    "* We will drop that one row nan in search_term column"
   ]
  },
  {
   "cell_type": "code",
   "execution_count": 40,
   "id": "2ce3e87a",
   "metadata": {},
   "outputs": [],
   "source": [
    "df_search_term.dropna(inplace=True)"
   ]
  },
  {
   "cell_type": "code",
   "execution_count": 41,
   "id": "2ea70deb",
   "metadata": {},
   "outputs": [
    {
     "data": {
      "text/plain": [
       "False"
      ]
     },
     "execution_count": 41,
     "metadata": {},
     "output_type": "execute_result"
    }
   ],
   "source": [
    "df_search_term.duplicated().any()"
   ]
  },
  {
   "cell_type": "code",
   "execution_count": 42,
   "id": "3011a62c",
   "metadata": {},
   "outputs": [
    {
     "data": {
      "text/plain": [
       "(373426,)"
      ]
     },
     "execution_count": 42,
     "metadata": {},
     "output_type": "execute_result"
    }
   ],
   "source": [
    "df_search_term.search_term.unique().shape"
   ]
  },
  {
   "cell_type": "code",
   "execution_count": 43,
   "id": "bdcd4345",
   "metadata": {},
   "outputs": [
    {
     "data": {
      "text/plain": [
       "tum urunler                 90241\n",
       "sweatshirt                   9830\n",
       "bot                          8852\n",
       "mont                         7089\n",
       "elbise                       6136\n",
       "                            ...  \n",
       "madame coco çift kişilik        1\n",
       "sleppy 2                        1\n",
       "berberın                        1\n",
       "qualıfe berberin                1\n",
       "büstadidas                      1\n",
       "Name: search_term, Length: 373426, dtype: int64"
      ]
     },
     "execution_count": 43,
     "metadata": {},
     "output_type": "execute_result"
    }
   ],
   "source": [
    "df_search_term.search_term.value_counts()"
   ]
  },
  {
   "cell_type": "markdown",
   "id": "9a9fe3b5",
   "metadata": {},
   "source": [
    "### df_product"
   ]
  },
  {
   "cell_type": "code",
   "execution_count": 44,
   "id": "55be798b",
   "metadata": {},
   "outputs": [
    {
     "data": {
      "text/html": [
       "<div>\n",
       "<style scoped>\n",
       "    .dataframe tbody tr th:only-of-type {\n",
       "        vertical-align: middle;\n",
       "    }\n",
       "\n",
       "    .dataframe tbody tr th {\n",
       "        vertical-align: top;\n",
       "    }\n",
       "\n",
       "    .dataframe thead th {\n",
       "        text-align: right;\n",
       "    }\n",
       "</style>\n",
       "<table border=\"1\" class=\"dataframe\">\n",
       "  <thead>\n",
       "    <tr style=\"text-align: right;\">\n",
       "      <th></th>\n",
       "      <th>contentid</th>\n",
       "      <th>currentbugroupname</th>\n",
       "      <th>brandid</th>\n",
       "      <th>gender</th>\n",
       "      <th>age</th>\n",
       "      <th>title</th>\n",
       "      <th>categoryname</th>\n",
       "    </tr>\n",
       "  </thead>\n",
       "  <tbody>\n",
       "    <tr>\n",
       "      <th>0</th>\n",
       "      <td>40100964</td>\n",
       "      <td>Ayakkabı &amp; Çanta</td>\n",
       "      <td>37787</td>\n",
       "      <td>Erkek</td>\n",
       "      <td>Yetişkin</td>\n",
       "      <td>Siyah Kauçuk Taban Büyük Numara Spor Ayakkab R...</td>\n",
       "      <td>Klasik Ayakkabı</td>\n",
       "    </tr>\n",
       "    <tr>\n",
       "      <th>1</th>\n",
       "      <td>40427970</td>\n",
       "      <td>Branded Tekstil</td>\n",
       "      <td>169</td>\n",
       "      <td>Kadın</td>\n",
       "      <td>Yetişkin</td>\n",
       "      <td>Kadın Siyah Çizgili Cepli Kuşaklı Pantolon</td>\n",
       "      <td>Pantolon</td>\n",
       "    </tr>\n",
       "  </tbody>\n",
       "</table>\n",
       "</div>"
      ],
      "text/plain": [
       "   contentid currentbugroupname  brandid gender       age  \\\n",
       "0   40100964   Ayakkabı & Çanta    37787  Erkek  Yetişkin   \n",
       "1   40427970    Branded Tekstil      169  Kadın  Yetişkin   \n",
       "\n",
       "                                               title     categoryname  \n",
       "0  Siyah Kauçuk Taban Büyük Numara Spor Ayakkab R...  Klasik Ayakkabı  \n",
       "1         Kadın Siyah Çizgili Cepli Kuşaklı Pantolon         Pantolon  "
      ]
     },
     "execution_count": 44,
     "metadata": {},
     "output_type": "execute_result"
    }
   ],
   "source": [
    "df_product = pd.read_csv('df_product.csv')\n",
    "df_product.head(2)"
   ]
  },
  {
   "cell_type": "code",
   "execution_count": 45,
   "id": "a0e59321",
   "metadata": {},
   "outputs": [
    {
     "name": "stdout",
     "output_type": "stream",
     "text": [
      "<class 'pandas.core.frame.DataFrame'>\n",
      "RangeIndex: 1441753 entries, 0 to 1441752\n",
      "Data columns (total 7 columns):\n",
      " #   Column              Non-Null Count    Dtype \n",
      "---  ------              --------------    ----- \n",
      " 0   contentid           1441753 non-null  int64 \n",
      " 1   currentbugroupname  1441753 non-null  object\n",
      " 2   brandid             1441753 non-null  int64 \n",
      " 3   gender              1220171 non-null  object\n",
      " 4   age                 1130547 non-null  object\n",
      " 5   title               1441165 non-null  object\n",
      " 6   categoryname        1441753 non-null  object\n",
      "dtypes: int64(2), object(5)\n",
      "memory usage: 77.0+ MB\n"
     ]
    }
   ],
   "source": [
    "df_product.info()"
   ]
  },
  {
   "cell_type": "code",
   "execution_count": 46,
   "id": "0002bac8",
   "metadata": {},
   "outputs": [
    {
     "data": {
      "text/plain": [
       "contentid              0.000000\n",
       "currentbugroupname     0.000000\n",
       "brandid                0.000000\n",
       "gender                15.368929\n",
       "age                   21.585251\n",
       "title                  0.040784\n",
       "categoryname           0.000000\n",
       "dtype: float64"
      ]
     },
     "execution_count": 46,
     "metadata": {},
     "output_type": "execute_result"
    }
   ],
   "source": [
    "df_product.isna().sum()*100/len(df_product)"
   ]
  },
  {
   "cell_type": "code",
   "execution_count": 47,
   "id": "9499e20f",
   "metadata": {},
   "outputs": [
    {
     "data": {
      "text/plain": [
       "Kadın     535505\n",
       "Unisex    526134\n",
       "Erkek     158532\n",
       "Name: gender, dtype: int64"
      ]
     },
     "execution_count": 47,
     "metadata": {},
     "output_type": "execute_result"
    }
   ],
   "source": [
    "df_product.gender.value_counts()"
   ]
  },
  {
   "cell_type": "code",
   "execution_count": 48,
   "id": "20ffdbb0",
   "metadata": {},
   "outputs": [],
   "source": [
    "# Filling the NaNs with proper values\n",
    "df_product.gender = df_product.gender.fillna('Unisex')\n",
    "df_product.age = df_product.age.fillna('no_age')\n",
    "df_product.title = df_product.title.fillna('UNKNOWN')"
   ]
  },
  {
   "cell_type": "code",
   "execution_count": 49,
   "id": "7693afa0",
   "metadata": {},
   "outputs": [
    {
     "data": {
      "text/plain": [
       "False"
      ]
     },
     "execution_count": 49,
     "metadata": {},
     "output_type": "execute_result"
    }
   ],
   "source": [
    "df_product.duplicated().any()"
   ]
  },
  {
   "cell_type": "code",
   "execution_count": 50,
   "id": "4d53d3df",
   "metadata": {},
   "outputs": [
    {
     "data": {
      "text/plain": [
       "array(['Ayakkabı & Çanta', 'Branded Tekstil', 'FMCG', 'Ev', 'GAS', 'GM',\n",
       "       'Elektronik', 'Kozmetik', 'Aksesuar & Saat & Gözlük',\n",
       "       'Private Label', 'Mobilya', 'UNKNOWN', 'Digital Goods'],\n",
       "      dtype=object)"
      ]
     },
     "execution_count": 50,
     "metadata": {},
     "output_type": "execute_result"
    }
   ],
   "source": [
    "df_product.currentbugroupname.unique()"
   ]
  },
  {
   "cell_type": "code",
   "execution_count": 51,
   "id": "fe9f44c8",
   "metadata": {},
   "outputs": [
    {
     "data": {
      "text/plain": [
       "(2529,)"
      ]
     },
     "execution_count": 51,
     "metadata": {},
     "output_type": "execute_result"
    }
   ],
   "source": [
    "df_product.categoryname.unique().shape"
   ]
  },
  {
   "cell_type": "markdown",
   "id": "7f4fe22d",
   "metadata": {},
   "source": [
    "### df_demo"
   ]
  },
  {
   "cell_type": "code",
   "execution_count": 52,
   "id": "e51ad280",
   "metadata": {},
   "outputs": [
    {
     "data": {
      "text/html": [
       "<div>\n",
       "<style scoped>\n",
       "    .dataframe tbody tr th:only-of-type {\n",
       "        vertical-align: middle;\n",
       "    }\n",
       "\n",
       "    .dataframe tbody tr th {\n",
       "        vertical-align: top;\n",
       "    }\n",
       "\n",
       "    .dataframe thead th {\n",
       "        text-align: right;\n",
       "    }\n",
       "</style>\n",
       "<table border=\"1\" class=\"dataframe\">\n",
       "  <thead>\n",
       "    <tr style=\"text-align: right;\">\n",
       "      <th></th>\n",
       "      <th>userid</th>\n",
       "      <th>gender</th>\n",
       "      <th>age</th>\n",
       "      <th>tenure</th>\n",
       "    </tr>\n",
       "  </thead>\n",
       "  <tbody>\n",
       "    <tr>\n",
       "      <th>0</th>\n",
       "      <td>9798852</td>\n",
       "      <td>Bayan</td>\n",
       "      <td>41.0</td>\n",
       "      <td>89</td>\n",
       "    </tr>\n",
       "    <tr>\n",
       "      <th>1</th>\n",
       "      <td>11413556</td>\n",
       "      <td>Bayan</td>\n",
       "      <td>33.0</td>\n",
       "      <td>61</td>\n",
       "    </tr>\n",
       "  </tbody>\n",
       "</table>\n",
       "</div>"
      ],
      "text/plain": [
       "     userid gender   age  tenure\n",
       "0   9798852  Bayan  41.0      89\n",
       "1  11413556  Bayan  33.0      61"
      ]
     },
     "execution_count": 52,
     "metadata": {},
     "output_type": "execute_result"
    }
   ],
   "source": [
    "df_demo = pd.read_csv('df_demo.csv')\n",
    "df_demo.head(2)"
   ]
  },
  {
   "cell_type": "code",
   "execution_count": 53,
   "id": "566bc0dc",
   "metadata": {},
   "outputs": [
    {
     "name": "stdout",
     "output_type": "stream",
     "text": [
      "<class 'pandas.core.frame.DataFrame'>\n",
      "RangeIndex: 40807 entries, 0 to 40806\n",
      "Data columns (total 4 columns):\n",
      " #   Column  Non-Null Count  Dtype  \n",
      "---  ------  --------------  -----  \n",
      " 0   userid  40807 non-null  int64  \n",
      " 1   gender  40807 non-null  object \n",
      " 2   age     25204 non-null  float64\n",
      " 3   tenure  40807 non-null  int64  \n",
      "dtypes: float64(1), int64(2), object(1)\n",
      "memory usage: 1.2+ MB\n"
     ]
    }
   ],
   "source": [
    "df_demo.info()"
   ]
  },
  {
   "cell_type": "code",
   "execution_count": 54,
   "id": "f17fe515",
   "metadata": {},
   "outputs": [
    {
     "data": {
      "text/plain": [
       "userid        0\n",
       "gender        0\n",
       "age       15603\n",
       "tenure        0\n",
       "dtype: int64"
      ]
     },
     "execution_count": 54,
     "metadata": {},
     "output_type": "execute_result"
    }
   ],
   "source": [
    "df_demo.isna().sum()"
   ]
  },
  {
   "cell_type": "code",
   "execution_count": 55,
   "id": "a30e7ebd",
   "metadata": {},
   "outputs": [
    {
     "data": {
      "text/plain": [
       "Bayan               31202\n",
       "Bay                  9378\n",
       "UNKNOWN               218\n",
       "kvkktalepsilindi        9\n",
       "Name: gender, dtype: int64"
      ]
     },
     "execution_count": 55,
     "metadata": {},
     "output_type": "execute_result"
    }
   ],
   "source": [
    "df_demo.gender.value_counts()"
   ]
  },
  {
   "cell_type": "code",
   "execution_count": 56,
   "id": "26d0e599",
   "metadata": {},
   "outputs": [],
   "source": [
    "df_demo.gender = df_demo.gender.replace('kvkktalepsilindi', 'UNKNOWN')"
   ]
  },
  {
   "cell_type": "code",
   "execution_count": 57,
   "id": "f192e67d",
   "metadata": {},
   "outputs": [
    {
     "data": {
      "text/plain": [
       "False"
      ]
     },
     "execution_count": 57,
     "metadata": {},
     "output_type": "execute_result"
    }
   ],
   "source": [
    "df_demo.duplicated().any()"
   ]
  },
  {
   "cell_type": "code",
   "execution_count": 58,
   "id": "373be5fc",
   "metadata": {},
   "outputs": [
    {
     "data": {
      "text/plain": [
       "Bayan      31202\n",
       "Bay         9378\n",
       "UNKNOWN      227\n",
       "Name: gender, dtype: int64"
      ]
     },
     "execution_count": 58,
     "metadata": {},
     "output_type": "execute_result"
    }
   ],
   "source": [
    "df_demo.gender.value_counts()"
   ]
  },
  {
   "cell_type": "code",
   "execution_count": 59,
   "id": "0bf2dc6a",
   "metadata": {},
   "outputs": [],
   "source": [
    "df_demo.loc[(df_demo.age>200) | (df_demo.age<0), 'age'] = np.nan"
   ]
  },
  {
   "cell_type": "code",
   "execution_count": 60,
   "id": "4e8a8b3d",
   "metadata": {},
   "outputs": [
    {
     "data": {
      "image/png": "[encoded data removed]",
      "text/plain": [
       "<Figure size 432x288 with 1 Axes>"
      ]
     },
     "metadata": {
      "needs_background": "light"
     },
     "output_type": "display_data"
    }
   ],
   "source": [
    "df_demo.age.plot();"
   ]
  },
  {
   "cell_type": "code",
   "execution_count": 61,
   "id": "819cbec0",
   "metadata": {},
   "outputs": [
    {
     "data": {
      "image/png": "[encoded data removed]",
      "text/plain": [
       "<Figure size 432x288 with 1 Axes>"
      ]
     },
     "metadata": {
      "needs_background": "light"
     },
     "output_type": "display_data"
    }
   ],
   "source": [
    "df_demo.tenure.plot();"
   ]
  },
  {
   "cell_type": "markdown",
   "id": "f932df0c",
   "metadata": {},
   "source": [
    "* Note: There is a chance that at some point some part of demographic data which was sorted by \"tenure\" was concatinated with to the previous unsorted data."
   ]
  },
  {
   "cell_type": "code",
   "execution_count": 62,
   "id": "cafecfe1",
   "metadata": {},
   "outputs": [
    {
     "data": {
      "image/png": "[encoded data removed]",
      "text/plain": [
       "<Figure size 432x288 with 1 Axes>"
      ]
     },
     "metadata": {
      "needs_background": "light"
     },
     "output_type": "display_data"
    }
   ],
   "source": [
    "df_demo.tenure.head(5000).hist(alpha=0.5);\n",
    "df_demo.tenure.tail(30000).hist(alpha=0.5);"
   ]
  },
  {
   "cell_type": "markdown",
   "id": "c0083d47",
   "metadata": {},
   "source": [
    "* The distribuion on tenure seems fine; thus we will use it as an attribute."
   ]
  },
  {
   "cell_type": "markdown",
   "id": "2223aa2a",
   "metadata": {},
   "source": [
    "### df_target_train"
   ]
  },
  {
   "cell_type": "code",
   "execution_count": 63,
   "id": "198a82d8",
   "metadata": {},
   "outputs": [
    {
     "data": {
      "text/html": [
       "<div>\n",
       "<style scoped>\n",
       "    .dataframe tbody tr th:only-of-type {\n",
       "        vertical-align: middle;\n",
       "    }\n",
       "\n",
       "    .dataframe tbody tr th {\n",
       "        vertical-align: top;\n",
       "    }\n",
       "\n",
       "    .dataframe thead th {\n",
       "        text-align: right;\n",
       "    }\n",
       "</style>\n",
       "<table border=\"1\" class=\"dataframe\">\n",
       "  <thead>\n",
       "    <tr style=\"text-align: right;\">\n",
       "      <th></th>\n",
       "      <th>userid</th>\n",
       "      <th>currentbugroupname</th>\n",
       "    </tr>\n",
       "  </thead>\n",
       "  <tbody>\n",
       "    <tr>\n",
       "      <th>0</th>\n",
       "      <td>28704634</td>\n",
       "      <td>GM</td>\n",
       "    </tr>\n",
       "    <tr>\n",
       "      <th>1</th>\n",
       "      <td>13506108</td>\n",
       "      <td>Ev</td>\n",
       "    </tr>\n",
       "  </tbody>\n",
       "</table>\n",
       "</div>"
      ],
      "text/plain": [
       "     userid currentbugroupname\n",
       "0  28704634                 GM\n",
       "1  13506108                 Ev"
      ]
     },
     "execution_count": 63,
     "metadata": {},
     "output_type": "execute_result"
    }
   ],
   "source": [
    "df_target_train = pd.read_csv('df_target_train.csv')\n",
    "df_target_train.head(2)"
   ]
  },
  {
   "cell_type": "code",
   "execution_count": 64,
   "id": "65f56b5c",
   "metadata": {},
   "outputs": [
    {
     "name": "stdout",
     "output_type": "stream",
     "text": [
      "<class 'pandas.core.frame.DataFrame'>\n",
      "RangeIndex: 27086 entries, 0 to 27085\n",
      "Data columns (total 2 columns):\n",
      " #   Column              Non-Null Count  Dtype \n",
      "---  ------              --------------  ----- \n",
      " 0   userid              27086 non-null  int64 \n",
      " 1   currentbugroupname  24734 non-null  object\n",
      "dtypes: int64(1), object(1)\n",
      "memory usage: 423.3+ KB\n"
     ]
    }
   ],
   "source": [
    "df_target_train.info()"
   ]
  },
  {
   "cell_type": "code",
   "execution_count": 65,
   "id": "3cae46c8",
   "metadata": {},
   "outputs": [
    {
     "data": {
      "text/plain": [
       "array(['GM', 'Ev', nan, 'Mobilya', 'Kozmetik', 'Aksesuar & Saat & Gözlük',\n",
       "       'Private Label', 'FMCG', 'Ayakkabı & Çanta', 'GAS',\n",
       "       'Branded Tekstil', 'Elektronik', 'Digital Goods'], dtype=object)"
      ]
     },
     "execution_count": 65,
     "metadata": {},
     "output_type": "execute_result"
    }
   ],
   "source": [
    "df_target_train.currentbugroupname.unique()"
   ]
  },
  {
   "cell_type": "code",
   "execution_count": 66,
   "id": "8947afcf",
   "metadata": {},
   "outputs": [
    {
     "data": {
      "text/plain": [
       "userid                0.000000\n",
       "currentbugroupname    0.086835\n",
       "dtype: float64"
      ]
     },
     "execution_count": 66,
     "metadata": {},
     "output_type": "execute_result"
    }
   ],
   "source": [
    "df_target_train.isna().sum()/len(df_target_train)"
   ]
  },
  {
   "cell_type": "code",
   "execution_count": 67,
   "id": "142d929b",
   "metadata": {},
   "outputs": [
    {
     "data": {
      "text/html": [
       "<div>\n",
       "<style scoped>\n",
       "    .dataframe tbody tr th:only-of-type {\n",
       "        vertical-align: middle;\n",
       "    }\n",
       "\n",
       "    .dataframe tbody tr th {\n",
       "        vertical-align: top;\n",
       "    }\n",
       "\n",
       "    .dataframe thead th {\n",
       "        text-align: right;\n",
       "    }\n",
       "</style>\n",
       "<table border=\"1\" class=\"dataframe\">\n",
       "  <thead>\n",
       "    <tr style=\"text-align: right;\">\n",
       "      <th></th>\n",
       "      <th>userid</th>\n",
       "      <th>currentbugroupname</th>\n",
       "    </tr>\n",
       "  </thead>\n",
       "  <tbody>\n",
       "    <tr>\n",
       "      <th>0</th>\n",
       "      <td>NaN</td>\n",
       "      <td>NaN</td>\n",
       "    </tr>\n",
       "    <tr>\n",
       "      <th>1</th>\n",
       "      <td>NaN</td>\n",
       "      <td>NaN</td>\n",
       "    </tr>\n",
       "    <tr>\n",
       "      <th>2</th>\n",
       "      <td>NaN</td>\n",
       "      <td>NaN</td>\n",
       "    </tr>\n",
       "    <tr>\n",
       "      <th>3</th>\n",
       "      <td>NaN</td>\n",
       "      <td>NaN</td>\n",
       "    </tr>\n",
       "    <tr>\n",
       "      <th>4</th>\n",
       "      <td>NaN</td>\n",
       "      <td>NaN</td>\n",
       "    </tr>\n",
       "    <tr>\n",
       "      <th>...</th>\n",
       "      <td>...</td>\n",
       "      <td>...</td>\n",
       "    </tr>\n",
       "    <tr>\n",
       "      <th>27081</th>\n",
       "      <td>NaN</td>\n",
       "      <td>NaN</td>\n",
       "    </tr>\n",
       "    <tr>\n",
       "      <th>27082</th>\n",
       "      <td>NaN</td>\n",
       "      <td>NaN</td>\n",
       "    </tr>\n",
       "    <tr>\n",
       "      <th>27083</th>\n",
       "      <td>NaN</td>\n",
       "      <td>NaN</td>\n",
       "    </tr>\n",
       "    <tr>\n",
       "      <th>27084</th>\n",
       "      <td>NaN</td>\n",
       "      <td>NaN</td>\n",
       "    </tr>\n",
       "    <tr>\n",
       "      <th>27085</th>\n",
       "      <td>NaN</td>\n",
       "      <td>NaN</td>\n",
       "    </tr>\n",
       "  </tbody>\n",
       "</table>\n",
       "<p>27086 rows × 2 columns</p>\n",
       "</div>"
      ],
      "text/plain": [
       "       userid currentbugroupname\n",
       "0         NaN                NaN\n",
       "1         NaN                NaN\n",
       "2         NaN                NaN\n",
       "3         NaN                NaN\n",
       "4         NaN                NaN\n",
       "...       ...                ...\n",
       "27081     NaN                NaN\n",
       "27082     NaN                NaN\n",
       "27083     NaN                NaN\n",
       "27084     NaN                NaN\n",
       "27085     NaN                NaN\n",
       "\n",
       "[27086 rows x 2 columns]"
      ]
     },
     "execution_count": 67,
     "metadata": {},
     "output_type": "execute_result"
    }
   ],
   "source": [
    "df_target_train[df_target_train.isna()]"
   ]
  },
  {
   "cell_type": "markdown",
   "id": "485b630a",
   "metadata": {},
   "source": [
    "* They are all empty rows. We can drop them."
   ]
  },
  {
   "cell_type": "code",
   "execution_count": 68,
   "id": "c3863f34",
   "metadata": {},
   "outputs": [],
   "source": [
    "df_target_train.dropna(inplace=True)"
   ]
  },
  {
   "cell_type": "code",
   "execution_count": 69,
   "id": "3f594b08",
   "metadata": {},
   "outputs": [
    {
     "data": {
      "text/plain": [
       "False"
      ]
     },
     "execution_count": 69,
     "metadata": {},
     "output_type": "execute_result"
    }
   ],
   "source": [
    "df_target_train.duplicated().any()"
   ]
  },
  {
   "cell_type": "code",
   "execution_count": 70,
   "id": "77df88b9",
   "metadata": {},
   "outputs": [
    {
     "data": {
      "text/plain": [
       "Branded Tekstil             5218\n",
       "FMCG                        4205\n",
       "GM                          3350\n",
       "Ev                          2674\n",
       "Private Label               1988\n",
       "Ayakkabı & Çanta            1863\n",
       "Elektronik                  1786\n",
       "Kozmetik                    1357\n",
       "GAS                          896\n",
       "Aksesuar & Saat & Gözlük     773\n",
       "Mobilya                      565\n",
       "Digital Goods                 59\n",
       "Name: currentbugroupname, dtype: int64"
      ]
     },
     "execution_count": 70,
     "metadata": {},
     "output_type": "execute_result"
    }
   ],
   "source": [
    "df_target_train.currentbugroupname.value_counts()"
   ]
  },
  {
   "cell_type": "code",
   "execution_count": 71,
   "id": "ada51e43",
   "metadata": {},
   "outputs": [
    {
     "data": {
      "text/plain": [
       "(18050,)"
      ]
     },
     "execution_count": 71,
     "metadata": {},
     "output_type": "execute_result"
    }
   ],
   "source": [
    "df_target_train.userid.unique().shape"
   ]
  },
  {
   "cell_type": "markdown",
   "id": "bdf9c877",
   "metadata": {},
   "source": [
    "### df_test"
   ]
  },
  {
   "cell_type": "code",
   "execution_count": 72,
   "id": "cefe0f2c",
   "metadata": {},
   "outputs": [
    {
     "data": {
      "text/html": [
       "<div>\n",
       "<style scoped>\n",
       "    .dataframe tbody tr th:only-of-type {\n",
       "        vertical-align: middle;\n",
       "    }\n",
       "\n",
       "    .dataframe tbody tr th {\n",
       "        vertical-align: top;\n",
       "    }\n",
       "\n",
       "    .dataframe thead th {\n",
       "        text-align: right;\n",
       "    }\n",
       "</style>\n",
       "<table border=\"1\" class=\"dataframe\">\n",
       "  <thead>\n",
       "    <tr style=\"text-align: right;\">\n",
       "      <th></th>\n",
       "      <th>userid</th>\n",
       "      <th>currentbugroupname</th>\n",
       "      <th>probability</th>\n",
       "      <th>target</th>\n",
       "    </tr>\n",
       "  </thead>\n",
       "  <tbody>\n",
       "    <tr>\n",
       "      <th>0</th>\n",
       "      <td>20152944</td>\n",
       "      <td>Private Label</td>\n",
       "      <td>NaN</td>\n",
       "      <td>NaN</td>\n",
       "    </tr>\n",
       "    <tr>\n",
       "      <th>1</th>\n",
       "      <td>6662068</td>\n",
       "      <td>Private Label</td>\n",
       "      <td>NaN</td>\n",
       "      <td>NaN</td>\n",
       "    </tr>\n",
       "  </tbody>\n",
       "</table>\n",
       "</div>"
      ],
      "text/plain": [
       "     userid currentbugroupname  probability  target\n",
       "0  20152944      Private Label          NaN     NaN\n",
       "1   6662068      Private Label          NaN     NaN"
      ]
     },
     "execution_count": 72,
     "metadata": {},
     "output_type": "execute_result"
    }
   ],
   "source": [
    "df_test = pd.read_csv('df_test.csv')\n",
    "df_test.head(2)"
   ]
  },
  {
   "cell_type": "code",
   "execution_count": 73,
   "id": "07dcef1e",
   "metadata": {},
   "outputs": [
    {
     "name": "stdout",
     "output_type": "stream",
     "text": [
      "<class 'pandas.core.frame.DataFrame'>\n",
      "RangeIndex: 244836 entries, 0 to 244835\n",
      "Data columns (total 4 columns):\n",
      " #   Column              Non-Null Count   Dtype  \n",
      "---  ------              --------------   -----  \n",
      " 0   userid              244836 non-null  int64  \n",
      " 1   currentbugroupname  244836 non-null  object \n",
      " 2   probability         0 non-null       float64\n",
      " 3   target              0 non-null       float64\n",
      "dtypes: float64(2), int64(1), object(1)\n",
      "memory usage: 7.5+ MB\n"
     ]
    }
   ],
   "source": [
    "df_test.info()"
   ]
  },
  {
   "cell_type": "code",
   "execution_count": 74,
   "id": "0b95ee9d",
   "metadata": {},
   "outputs": [
    {
     "data": {
      "text/plain": [
       "userid                     0\n",
       "currentbugroupname         0\n",
       "probability           244836\n",
       "target                244836\n",
       "dtype: int64"
      ]
     },
     "execution_count": 74,
     "metadata": {},
     "output_type": "execute_result"
    }
   ],
   "source": [
    "df_test.isna().sum()"
   ]
  },
  {
   "cell_type": "code",
   "execution_count": 75,
   "id": "64677448",
   "metadata": {},
   "outputs": [
    {
     "data": {
      "text/plain": [
       "False"
      ]
     },
     "execution_count": 75,
     "metadata": {},
     "output_type": "execute_result"
    }
   ],
   "source": [
    "df_test.duplicated().any()"
   ]
  },
  {
   "cell_type": "code",
   "execution_count": 76,
   "id": "c415b838",
   "metadata": {},
   "outputs": [
    {
     "data": {
      "text/plain": [
       "(20403,)"
      ]
     },
     "execution_count": 76,
     "metadata": {},
     "output_type": "execute_result"
    }
   ],
   "source": [
    "df_test.userid.unique().shape"
   ]
  },
  {
   "cell_type": "code",
   "execution_count": 77,
   "id": "dbababe2",
   "metadata": {},
   "outputs": [
    {
     "data": {
      "text/plain": [
       "array(['Private Label', 'Kozmetik', 'Ev', 'Branded Tekstil',\n",
       "       'Ayakkabı & Çanta', 'Elektronik', 'GM', 'FMCG', 'Mobilya', 'GAS',\n",
       "       'Aksesuar & Saat & Gözlük', 'Digital Goods'], dtype=object)"
      ]
     },
     "execution_count": 77,
     "metadata": {},
     "output_type": "execute_result"
    }
   ],
   "source": [
    "df_test.currentbugroupname.unique()"
   ]
  },
  {
   "cell_type": "markdown",
   "id": "f67a03a9",
   "metadata": {},
   "source": [
    "## 2. Data Wrangling"
   ]
  },
  {
   "cell_type": "code",
   "execution_count": 78,
   "id": "191bf4c3",
   "metadata": {},
   "outputs": [],
   "source": [
    "# renaming some attributes\n",
    "df_basket = df_basket.rename(columns = {'partition_date':'basketdate'})\n",
    "df_fav = df_fav.rename(columns = {'partition_date':'favdate'})\n",
    "df_visit = df_visit.rename(columns = {'partition_date':'visitdate'})\n",
    "df_search_term = df_search_term.rename(columns = {'partition_date':'searchdate'})\n",
    "df_product = df_product.rename(columns = {'gender':'gender_product','age':'age_product'})\n",
    "df_target_train = df_target_train.rename(columns = {'currentbugroupname':'target'})"
   ]
  },
  {
   "cell_type": "markdown",
   "id": "5fd1ca0c",
   "metadata": {},
   "source": [
    "### 2.1 Finding currentbugroupname and categoryname for search terms in df_search_term"
   ]
  },
  {
   "cell_type": "code",
   "execution_count": 81,
   "id": "921384ec",
   "metadata": {},
   "outputs": [],
   "source": [
    "df_product_temp = df_product.copy()\n",
    "strcols = ['currentbugroupname','categoryname']\n",
    "\n",
    "# making a new column called \"description\" by row-wise joining the strings in 'currentbugroupname' and 'categoryname'\n",
    "df_product_temp['description'] = df_product_temp[strcols].apply(lambda x: ' '.join(x), axis=1)\n",
    "\n",
    "# getting the unique search terms and product descriptions\n",
    "descriptions = df_product_temp['description'].unique()\n",
    "user_search = df_search_term.search_term.unique()"
   ]
  },
  {
   "cell_type": "code",
   "execution_count": 82,
   "id": "161cafa1",
   "metadata": {},
   "outputs": [],
   "source": [
    "from sklearn.feature_extraction.text import TfidfVectorizer\n",
    "\n",
    "# vectorizing the two text columns\n",
    "vectorizer = TfidfVectorizer()\n",
    "descriptions_vec = vectorizer.fit_transform(descriptions)\n",
    "user_search_verc = vectorizer.transform(user_search)"
   ]
  },
  {
   "cell_type": "code",
   "execution_count": 83,
   "id": "c5fd13d5",
   "metadata": {},
   "outputs": [],
   "source": [
    "from sklearn.metrics.pairwise import cosine_similarity\n",
    "\n",
    "# performing a pairwise cosine similarity and construction its matrix as in a dataframe\n",
    "df_cs = pd.DataFrame(cosine_similarity(user_search_verc, descriptions_vec))\n",
    "df_cs['MAX'] = df_cs.max(axis=1)"
   ]
  },
  {
   "cell_type": "code",
   "execution_count": 84,
   "id": "65856e61",
   "metadata": {},
   "outputs": [],
   "source": [
    "# getting those descriptions that have similarity for any search term\n",
    "df_cs = df_cs.loc[df_cs.MAX>0] \n",
    "relateds = df_cs.apply(lambda row: row[row == row.MAX].index[0], axis=1).reset_index()\n",
    "relateds['search_term'] = relateds['index'].apply(lambda x: user_search[x])\n",
    "relateds['descriptions'] = relateds[0].apply(lambda x: descriptions[x])\n",
    "\n",
    "cbgnames = df_product_temp['currentbugroupname'].unique()\n",
    "\n",
    "def get_currentbugroupname(x):\n",
    "    c = [i for i in cbgnames if x[:len(i)]==i]\n",
    "    return c[0], x[len(c[0])+1:]\n",
    "\n",
    "# splitting descriptions into a column with values of toples containing categoryname and currentbugroupname\n",
    "relateds['descriptions_splitted'] = relateds.descriptions.apply(get_currentbugroupname)"
   ]
  },
  {
   "cell_type": "code",
   "execution_count": 86,
   "id": "c9b8ac99",
   "metadata": {},
   "outputs": [],
   "source": [
    "# assigning currentbugroupname and categoryname columns related to each search_term\n",
    "relateds['currentbugroupname'] = relateds.descriptions_splitted.apply(lambda x: x[0])\n",
    "relateds['categoryname'] = relateds.descriptions_splitted.apply(lambda x: x[1])\n",
    "relateds = relateds[['search_term','currentbugroupname','categoryname']]"
   ]
  },
  {
   "cell_type": "code",
   "execution_count": 87,
   "id": "e236aa20",
   "metadata": {},
   "outputs": [
    {
     "data": {
      "text/html": [
       "<div>\n",
       "<style scoped>\n",
       "    .dataframe tbody tr th:only-of-type {\n",
       "        vertical-align: middle;\n",
       "    }\n",
       "\n",
       "    .dataframe tbody tr th {\n",
       "        vertical-align: top;\n",
       "    }\n",
       "\n",
       "    .dataframe thead th {\n",
       "        text-align: right;\n",
       "    }\n",
       "</style>\n",
       "<table border=\"1\" class=\"dataframe\">\n",
       "  <thead>\n",
       "    <tr style=\"text-align: right;\">\n",
       "      <th></th>\n",
       "      <th>search_term</th>\n",
       "      <th>currentbugroupname</th>\n",
       "      <th>categoryname</th>\n",
       "    </tr>\n",
       "  </thead>\n",
       "  <tbody>\n",
       "    <tr>\n",
       "      <th>0</th>\n",
       "      <td>güneş gözlüğü</td>\n",
       "      <td>GM</td>\n",
       "      <td>Güneş Gözlüğü</td>\n",
       "    </tr>\n",
       "    <tr>\n",
       "      <th>1</th>\n",
       "      <td>elbise</td>\n",
       "      <td>GM</td>\n",
       "      <td>Elbise</td>\n",
       "    </tr>\n",
       "    <tr>\n",
       "      <th>2</th>\n",
       "      <td>toz deterjan</td>\n",
       "      <td>FMCG</td>\n",
       "      <td>Jel Deterjan</td>\n",
       "    </tr>\n",
       "    <tr>\n",
       "      <th>3</th>\n",
       "      <td>detarjan toz</td>\n",
       "      <td>GM</td>\n",
       "      <td>Toz Deterjanı</td>\n",
       "    </tr>\n",
       "    <tr>\n",
       "      <th>4</th>\n",
       "      <td>temizlik seti</td>\n",
       "      <td>Ev</td>\n",
       "      <td>Temizlik Seti</td>\n",
       "    </tr>\n",
       "    <tr>\n",
       "      <th>...</th>\n",
       "      <td>...</td>\n",
       "      <td>...</td>\n",
       "      <td>...</td>\n",
       "    </tr>\n",
       "    <tr>\n",
       "      <th>216471</th>\n",
       "      <td>parfüm doldurucu</td>\n",
       "      <td>GM</td>\n",
       "      <td>Parfüm</td>\n",
       "    </tr>\n",
       "    <tr>\n",
       "      <th>216472</th>\n",
       "      <td>emaye kap</td>\n",
       "      <td>Branded Tekstil</td>\n",
       "      <td>Kap &amp; Ferace</td>\n",
       "    </tr>\n",
       "    <tr>\n",
       "      <th>216473</th>\n",
       "      <td>elle ayakkabı</td>\n",
       "      <td>Ayakkabı &amp; Çanta</td>\n",
       "      <td>Ayakkabı Bakım</td>\n",
       "    </tr>\n",
       "    <tr>\n",
       "      <th>216474</th>\n",
       "      <td>ananaslı kazak</td>\n",
       "      <td>Elektronik</td>\n",
       "      <td>Kazak</td>\n",
       "    </tr>\n",
       "    <tr>\n",
       "      <th>216475</th>\n",
       "      <td>bebek doktor seti</td>\n",
       "      <td>GM</td>\n",
       "      <td>Bebek Bakım Seti</td>\n",
       "    </tr>\n",
       "  </tbody>\n",
       "</table>\n",
       "<p>216476 rows × 3 columns</p>\n",
       "</div>"
      ],
      "text/plain": [
       "              search_term currentbugroupname      categoryname\n",
       "0           güneş gözlüğü                 GM     Güneş Gözlüğü\n",
       "1                  elbise                 GM            Elbise\n",
       "2            toz deterjan               FMCG      Jel Deterjan\n",
       "3            detarjan toz                 GM     Toz Deterjanı\n",
       "4           temizlik seti                 Ev     Temizlik Seti\n",
       "...                   ...                ...               ...\n",
       "216471   parfüm doldurucu                 GM            Parfüm\n",
       "216472          emaye kap    Branded Tekstil      Kap & Ferace\n",
       "216473      elle ayakkabı   Ayakkabı & Çanta    Ayakkabı Bakım\n",
       "216474     ananaslı kazak         Elektronik             Kazak\n",
       "216475  bebek doktor seti                 GM  Bebek Bakım Seti\n",
       "\n",
       "[216476 rows x 3 columns]"
      ]
     },
     "execution_count": 87,
     "metadata": {},
     "output_type": "execute_result"
    }
   ],
   "source": [
    "# replacing 'UNKNOWN' values in 'currentbugroupname' column with NaNs\n",
    "relateds.loc[relateds.currentbugroupname=='UNKNOWN', 'currentbugroupname'] = np.nan\n",
    "\n",
    "# filling those NaNs with their proper value by grouping over 'categoryname'\n",
    "relateds['currentbugroupname'] = relateds.groupby('categoryname').currentbugroupname.fillna(lambda x: x.mode())\n",
    "relateds"
   ]
  },
  {
   "cell_type": "markdown",
   "id": "f557b311",
   "metadata": {},
   "source": [
    "* The table above is the results of my similarity search in order to assign currentbugroupname and categoryname for each seart_term."
   ]
  },
  {
   "cell_type": "code",
   "execution_count": 88,
   "id": "3d3efe9e",
   "metadata": {},
   "outputs": [
    {
     "data": {
      "text/html": [
       "<div>\n",
       "<style scoped>\n",
       "    .dataframe tbody tr th:only-of-type {\n",
       "        vertical-align: middle;\n",
       "    }\n",
       "\n",
       "    .dataframe tbody tr th {\n",
       "        vertical-align: top;\n",
       "    }\n",
       "\n",
       "    .dataframe thead th {\n",
       "        text-align: right;\n",
       "    }\n",
       "</style>\n",
       "<table border=\"1\" class=\"dataframe\">\n",
       "  <thead>\n",
       "    <tr style=\"text-align: right;\">\n",
       "      <th></th>\n",
       "      <th>userid</th>\n",
       "      <th>searchdate</th>\n",
       "      <th>search_term</th>\n",
       "      <th>currentbugroupname</th>\n",
       "      <th>categoryname</th>\n",
       "    </tr>\n",
       "  </thead>\n",
       "  <tbody>\n",
       "    <tr>\n",
       "      <th>0</th>\n",
       "      <td>29474088</td>\n",
       "      <td>2020-10-05</td>\n",
       "      <td>tum urunler</td>\n",
       "      <td>NaN</td>\n",
       "      <td>NaN</td>\n",
       "    </tr>\n",
       "    <tr>\n",
       "      <th>1</th>\n",
       "      <td>29474088</td>\n",
       "      <td>2020-10-07</td>\n",
       "      <td>nike</td>\n",
       "      <td>NaN</td>\n",
       "      <td>NaN</td>\n",
       "    </tr>\n",
       "    <tr>\n",
       "      <th>2</th>\n",
       "      <td>29474088</td>\n",
       "      <td>2020-10-07</td>\n",
       "      <td>hummel hmlkansas</td>\n",
       "      <td>NaN</td>\n",
       "      <td>NaN</td>\n",
       "    </tr>\n",
       "    <tr>\n",
       "      <th>3</th>\n",
       "      <td>29474088</td>\n",
       "      <td>2020-10-07</td>\n",
       "      <td>adidas superstar</td>\n",
       "      <td>NaN</td>\n",
       "      <td>NaN</td>\n",
       "    </tr>\n",
       "    <tr>\n",
       "      <th>4</th>\n",
       "      <td>29474088</td>\n",
       "      <td>2020-10-09</td>\n",
       "      <td>tum urunler</td>\n",
       "      <td>NaN</td>\n",
       "      <td>NaN</td>\n",
       "    </tr>\n",
       "    <tr>\n",
       "      <th>...</th>\n",
       "      <td>...</td>\n",
       "      <td>...</td>\n",
       "      <td>...</td>\n",
       "      <td>...</td>\n",
       "      <td>...</td>\n",
       "    </tr>\n",
       "    <tr>\n",
       "      <th>1281747</th>\n",
       "      <td>2929836</td>\n",
       "      <td>2020-10-10</td>\n",
       "      <td>büstadidas</td>\n",
       "      <td>NaN</td>\n",
       "      <td>NaN</td>\n",
       "    </tr>\n",
       "    <tr>\n",
       "      <th>1281748</th>\n",
       "      <td>2929836</td>\n",
       "      <td>2020-10-06</td>\n",
       "      <td>evony çocuk</td>\n",
       "      <td>GM</td>\n",
       "      <td>Çocuk Halısı</td>\n",
       "    </tr>\n",
       "    <tr>\n",
       "      <th>1281749</th>\n",
       "      <td>2929836</td>\n",
       "      <td>2020-10-11</td>\n",
       "      <td>tum urunler</td>\n",
       "      <td>NaN</td>\n",
       "      <td>NaN</td>\n",
       "    </tr>\n",
       "    <tr>\n",
       "      <th>1281750</th>\n",
       "      <td>2929836</td>\n",
       "      <td>2020-10-10</td>\n",
       "      <td>adidas</td>\n",
       "      <td>NaN</td>\n",
       "      <td>NaN</td>\n",
       "    </tr>\n",
       "    <tr>\n",
       "      <th>1281751</th>\n",
       "      <td>2929836</td>\n",
       "      <td>2020-10-07</td>\n",
       "      <td>bot</td>\n",
       "      <td>GM</td>\n",
       "      <td>Motosiklet Ayakkabı &amp; Bot</td>\n",
       "    </tr>\n",
       "  </tbody>\n",
       "</table>\n",
       "<p>1281752 rows × 5 columns</p>\n",
       "</div>"
      ],
      "text/plain": [
       "           userid  searchdate       search_term currentbugroupname  \\\n",
       "0        29474088  2020-10-05       tum urunler                NaN   \n",
       "1        29474088  2020-10-07              nike                NaN   \n",
       "2        29474088  2020-10-07  hummel hmlkansas                NaN   \n",
       "3        29474088  2020-10-07  adidas superstar                NaN   \n",
       "4        29474088  2020-10-09       tum urunler                NaN   \n",
       "...           ...         ...               ...                ...   \n",
       "1281747   2929836  2020-10-10        büstadidas                NaN   \n",
       "1281748   2929836  2020-10-06       evony çocuk                 GM   \n",
       "1281749   2929836  2020-10-11       tum urunler                NaN   \n",
       "1281750   2929836  2020-10-10            adidas                NaN   \n",
       "1281751   2929836  2020-10-07               bot                 GM   \n",
       "\n",
       "                      categoryname  \n",
       "0                              NaN  \n",
       "1                              NaN  \n",
       "2                              NaN  \n",
       "3                              NaN  \n",
       "4                              NaN  \n",
       "...                            ...  \n",
       "1281747                        NaN  \n",
       "1281748               Çocuk Halısı  \n",
       "1281749                        NaN  \n",
       "1281750                        NaN  \n",
       "1281751  Motosiklet Ayakkabı & Bot  \n",
       "\n",
       "[1281752 rows x 5 columns]"
      ]
     },
     "execution_count": 88,
     "metadata": {},
     "output_type": "execute_result"
    }
   ],
   "source": [
    "# updating df_search_term with the new info gained\n",
    "df_search_term_updated = pd.merge(df_search_term, relateds, how='left', on='search_term')"
   ]
  },
  {
   "cell_type": "code",
   "execution_count": 89,
   "id": "9aff3154",
   "metadata": {},
   "outputs": [
    {
     "data": {
      "text/plain": [
       "userid                0.000000\n",
       "searchdate            0.000000\n",
       "search_term           0.000000\n",
       "currentbugroupname    0.367599\n",
       "categoryname          0.367599\n",
       "dtype: float64"
      ]
     },
     "execution_count": 89,
     "metadata": {},
     "output_type": "execute_result"
    }
   ],
   "source": [
    "# df_search_term_updated.to_csv('df_search_term_updated.csv', index=False)\n",
    "df_search_term_updated = pd.read_csv('df_search_term_updated.csv')\n",
    "df_search_term_updated.isna().sum()/len(df_search_term_updated)"
   ]
  },
  {
   "cell_type": "markdown",
   "id": "6e5192ed",
   "metadata": {},
   "source": [
    "* We were able to find the currentbugroupname and categoryname for almost 64 percent of the search terms."
   ]
  },
  {
   "cell_type": "code",
   "execution_count": 90,
   "id": "67a65678",
   "metadata": {},
   "outputs": [
    {
     "data": {
      "text/html": [
       "<div>\n",
       "<style scoped>\n",
       "    .dataframe tbody tr th:only-of-type {\n",
       "        vertical-align: middle;\n",
       "    }\n",
       "\n",
       "    .dataframe tbody tr th {\n",
       "        vertical-align: top;\n",
       "    }\n",
       "\n",
       "    .dataframe thead th {\n",
       "        text-align: right;\n",
       "    }\n",
       "</style>\n",
       "<table border=\"1\" class=\"dataframe\">\n",
       "  <thead>\n",
       "    <tr style=\"text-align: right;\">\n",
       "      <th></th>\n",
       "      <th>userid</th>\n",
       "      <th>currentbugroupname</th>\n",
       "      <th>searchdate_count</th>\n",
       "    </tr>\n",
       "  </thead>\n",
       "  <tbody>\n",
       "    <tr>\n",
       "      <th>0</th>\n",
       "      <td>12810</td>\n",
       "      <td>Elektronik</td>\n",
       "      <td>3</td>\n",
       "    </tr>\n",
       "    <tr>\n",
       "      <th>1</th>\n",
       "      <td>12810</td>\n",
       "      <td>Ev</td>\n",
       "      <td>7</td>\n",
       "    </tr>\n",
       "    <tr>\n",
       "      <th>2</th>\n",
       "      <td>12810</td>\n",
       "      <td>FMCG</td>\n",
       "      <td>3</td>\n",
       "    </tr>\n",
       "    <tr>\n",
       "      <th>3</th>\n",
       "      <td>12810</td>\n",
       "      <td>GAS</td>\n",
       "      <td>6</td>\n",
       "    </tr>\n",
       "    <tr>\n",
       "      <th>4</th>\n",
       "      <td>12810</td>\n",
       "      <td>GM</td>\n",
       "      <td>17</td>\n",
       "    </tr>\n",
       "    <tr>\n",
       "      <th>...</th>\n",
       "      <td>...</td>\n",
       "      <td>...</td>\n",
       "      <td>...</td>\n",
       "    </tr>\n",
       "    <tr>\n",
       "      <th>127867</th>\n",
       "      <td>44611269</td>\n",
       "      <td>Branded Tekstil</td>\n",
       "      <td>1</td>\n",
       "    </tr>\n",
       "    <tr>\n",
       "      <th>127868</th>\n",
       "      <td>44611269</td>\n",
       "      <td>GM</td>\n",
       "      <td>1</td>\n",
       "    </tr>\n",
       "    <tr>\n",
       "      <th>127869</th>\n",
       "      <td>44621771</td>\n",
       "      <td>GM</td>\n",
       "      <td>1</td>\n",
       "    </tr>\n",
       "    <tr>\n",
       "      <th>127870</th>\n",
       "      <td>44625651</td>\n",
       "      <td>Ayakkabı &amp; Çanta</td>\n",
       "      <td>1</td>\n",
       "    </tr>\n",
       "    <tr>\n",
       "      <th>127871</th>\n",
       "      <td>44625651</td>\n",
       "      <td>GM</td>\n",
       "      <td>1</td>\n",
       "    </tr>\n",
       "  </tbody>\n",
       "</table>\n",
       "<p>127872 rows × 3 columns</p>\n",
       "</div>"
      ],
      "text/plain": [
       "          userid currentbugroupname  searchdate_count\n",
       "0          12810         Elektronik                 3\n",
       "1          12810                 Ev                 7\n",
       "2          12810               FMCG                 3\n",
       "3          12810                GAS                 6\n",
       "4          12810                 GM                17\n",
       "...          ...                ...               ...\n",
       "127867  44611269    Branded Tekstil                 1\n",
       "127868  44611269                 GM                 1\n",
       "127869  44621771                 GM                 1\n",
       "127870  44625651   Ayakkabı & Çanta                 1\n",
       "127871  44625651                 GM                 1\n",
       "\n",
       "[127872 rows x 3 columns]"
      ]
     },
     "execution_count": 90,
     "metadata": {},
     "output_type": "execute_result"
    }
   ],
   "source": [
    "# counting the number of search for each currentbugroupname done by each user\n",
    "df_search_term = df_search_term_updated.groupby(['userid','currentbugroupname']).searchdate.nunique().reset_index()\n",
    "df_search_term = df_search_term.rename(columns={'searchdate':'searchdate_count'})\n",
    "df_search_term"
   ]
  },
  {
   "cell_type": "markdown",
   "id": "0d29b1db",
   "metadata": {},
   "source": [
    "### 3.2 Merge tables"
   ]
  },
  {
   "cell_type": "code",
   "execution_count": 91,
   "id": "ba3fc15e",
   "metadata": {},
   "outputs": [],
   "source": [
    "# merging tables\n",
    "merged_trx = reduce(lambda left, right: pd.merge(left,right,on=['userid','contentid'], how='outer'), \n",
    "                    [df_basket, df_fav, df_visit, df_trx])\n",
    "\n",
    "merged = pd.merge(merged_trx, df_product, on='contentid', how='left')\n",
    "\n",
    "# there is no 'UNKNOWN' value for currentbugroupname in the test set; thus we will ignore these data points.\n",
    "merged = merged[merged.currentbugroupname!='UNKNOWN']"
   ]
  },
  {
   "cell_type": "code",
   "execution_count": 92,
   "id": "2f328e6e",
   "metadata": {},
   "outputs": [],
   "source": [
    "# making a new dataframe which would have all unique values in currentbugroupname for all users in the train set\n",
    "currentbugroupnames = df_target_train.target.unique()\n",
    "n_cgn = currentbugroupnames.shape[0]\n",
    "newdf = pd.DataFrame(np.repeat(df_target_train.values, n_cgn, axis=0))\n",
    "newdf.columns = df_target_train.columns\n",
    "\n",
    "v = pd.Series(currentbugroupnames)\n",
    "newdf['currentbugroupname'] = np.tile(v, len(newdf) // len(v) + 1)[:len(newdf)]"
   ]
  },
  {
   "cell_type": "code",
   "execution_count": 93,
   "id": "e4324866",
   "metadata": {},
   "outputs": [],
   "source": [
    "df_target = newdf.copy()\n",
    "# for each user, if they have bought from a currentbugroupname, we put 1 in our target column.\n",
    "df_target['target'] = df_target.apply(lambda x: 1 if x.currentbugroupname==x.target else 0, axis=1)"
   ]
  },
  {
   "cell_type": "code",
   "execution_count": 94,
   "id": "a1ad0f0f",
   "metadata": {},
   "outputs": [],
   "source": [
    "merged_trg = pd.merge(merged, df_target, on=['userid','currentbugroupname'], how='right')\n",
    "\n",
    "# filling NaNs in some of categorical columns with 'UNKNOWN'\n",
    "merged_trg[['brandid','gender_product','age_product','title','categoryname','contentid']] = merged_trg[['brandid',\n",
    "                                    'gender_product','age_product','title','categoryname','contentid']].fillna('UNKNOWN')"
   ]
  },
  {
   "cell_type": "code",
   "execution_count": 95,
   "id": "3d249b88",
   "metadata": {},
   "outputs": [],
   "source": [
    "# two temperary dataframes to count for some columns and sum for some others\n",
    "temp_count = merged_trg.groupby(['userid','currentbugroupname'])[['contentid','basketdate','favdate','visitdate','orderdate'\n",
    "                                                ,'brandid','categoryname']].nunique().add_suffix('_count').reset_index()\n",
    "\n",
    "temp_sum = merged_trg.groupby(['userid','currentbugroupname'])[['addtobasket_count','fav_count','productdetailcount','orderdate'\n",
    "                                                            ,'quantity','price']].sum().add_suffix('_sum').reset_index()"
   ]
  },
  {
   "cell_type": "code",
   "execution_count": 96,
   "id": "80d0549c",
   "metadata": {},
   "outputs": [],
   "source": [
    "# merging the two\n",
    "new_train = pd.merge(temp_count, temp_sum, on=['userid','currentbugroupname'])"
   ]
  },
  {
   "cell_type": "code",
   "execution_count": 97,
   "id": "d80e5748",
   "metadata": {},
   "outputs": [],
   "source": [
    "# merge the new dataframe with df_target, df_demo, and df_search_term with their relative common columns\n",
    "df_train = pd.merge(new_train, df_target, on=['userid','currentbugroupname'], how='right')\n",
    "df_train = pd.merge(df_train, df_demo, on=['userid'], how='left')\n",
    "df_train = pd.merge(df_train, df_search_term, on=['userid','currentbugroupname'], how='left')\n",
    "df_train.fillna(0, inplace=True)"
   ]
  },
  {
   "cell_type": "code",
   "execution_count": 98,
   "id": "e8295552",
   "metadata": {},
   "outputs": [],
   "source": [
    "from sklearn import preprocessing\n",
    "import joblib\n",
    "# perform label encoding on categorical columns. We will keep these fitted models to encode the same \n",
    "# categorical columns in the final test set.\n",
    "le_cgb = preprocessing.LabelEncoder()\n",
    "le_cgb.fit(df_train['currentbugroupname'])\n",
    "df_train['currentbugroupname'] = le_cgb.transform(df_train['currentbugroupname'])\n",
    "# for later use\n",
    "joblib.dump(le_cgb, 'le_cgb.pkl')\n",
    "\n",
    "le_gnd = preprocessing.LabelEncoder()\n",
    "le_gnd.fit(df_train['gender'])\n",
    "df_train['gender'] = le_gnd.transform(df_train['gender'])"
   ]
  },
  {
   "cell_type": "code",
   "execution_count": 99,
   "id": "4fa66f79",
   "metadata": {},
   "outputs": [
    {
     "data": {
      "text/html": [
       "<div>\n",
       "<style scoped>\n",
       "    .dataframe tbody tr th:only-of-type {\n",
       "        vertical-align: middle;\n",
       "    }\n",
       "\n",
       "    .dataframe tbody tr th {\n",
       "        vertical-align: top;\n",
       "    }\n",
       "\n",
       "    .dataframe thead th {\n",
       "        text-align: right;\n",
       "    }\n",
       "</style>\n",
       "<table border=\"1\" class=\"dataframe\">\n",
       "  <thead>\n",
       "    <tr style=\"text-align: right;\">\n",
       "      <th></th>\n",
       "      <th>userid</th>\n",
       "      <th>currentbugroupname</th>\n",
       "      <th>contentid_count</th>\n",
       "      <th>basketdate_count</th>\n",
       "      <th>favdate_count</th>\n",
       "      <th>visitdate_count</th>\n",
       "      <th>orderdate_count</th>\n",
       "      <th>brandid_count</th>\n",
       "      <th>categoryname_count</th>\n",
       "      <th>addtobasket_count_sum</th>\n",
       "      <th>fav_count_sum</th>\n",
       "      <th>productdetailcount_sum</th>\n",
       "      <th>quantity_sum</th>\n",
       "      <th>price_sum</th>\n",
       "      <th>target</th>\n",
       "      <th>gender</th>\n",
       "      <th>age</th>\n",
       "      <th>tenure</th>\n",
       "      <th>searchdate_count</th>\n",
       "    </tr>\n",
       "  </thead>\n",
       "  <tbody>\n",
       "    <tr>\n",
       "      <th>0</th>\n",
       "      <td>28704634.0</td>\n",
       "      <td>8</td>\n",
       "      <td>18</td>\n",
       "      <td>0</td>\n",
       "      <td>0</td>\n",
       "      <td>4</td>\n",
       "      <td>1</td>\n",
       "      <td>8</td>\n",
       "      <td>3</td>\n",
       "      <td>0.0</td>\n",
       "      <td>0.0</td>\n",
       "      <td>42.0</td>\n",
       "      <td>3.0</td>\n",
       "      <td>162.15</td>\n",
       "      <td>1</td>\n",
       "      <td>0</td>\n",
       "      <td>22.0</td>\n",
       "      <td>10</td>\n",
       "      <td>3.0</td>\n",
       "    </tr>\n",
       "    <tr>\n",
       "      <th>1</th>\n",
       "      <td>28704634.0</td>\n",
       "      <td>5</td>\n",
       "      <td>1</td>\n",
       "      <td>0</td>\n",
       "      <td>0</td>\n",
       "      <td>0</td>\n",
       "      <td>0</td>\n",
       "      <td>1</td>\n",
       "      <td>1</td>\n",
       "      <td>0.0</td>\n",
       "      <td>0.0</td>\n",
       "      <td>0.0</td>\n",
       "      <td>0.0</td>\n",
       "      <td>0.00</td>\n",
       "      <td>0</td>\n",
       "      <td>0</td>\n",
       "      <td>22.0</td>\n",
       "      <td>10</td>\n",
       "      <td>2.0</td>\n",
       "    </tr>\n",
       "    <tr>\n",
       "      <th>2</th>\n",
       "      <td>28704634.0</td>\n",
       "      <td>10</td>\n",
       "      <td>1</td>\n",
       "      <td>0</td>\n",
       "      <td>0</td>\n",
       "      <td>0</td>\n",
       "      <td>0</td>\n",
       "      <td>1</td>\n",
       "      <td>1</td>\n",
       "      <td>0.0</td>\n",
       "      <td>0.0</td>\n",
       "      <td>0.0</td>\n",
       "      <td>0.0</td>\n",
       "      <td>0.00</td>\n",
       "      <td>0</td>\n",
       "      <td>0</td>\n",
       "      <td>22.0</td>\n",
       "      <td>10</td>\n",
       "      <td>0.0</td>\n",
       "    </tr>\n",
       "    <tr>\n",
       "      <th>3</th>\n",
       "      <td>28704634.0</td>\n",
       "      <td>9</td>\n",
       "      <td>1</td>\n",
       "      <td>0</td>\n",
       "      <td>0</td>\n",
       "      <td>0</td>\n",
       "      <td>0</td>\n",
       "      <td>1</td>\n",
       "      <td>1</td>\n",
       "      <td>0.0</td>\n",
       "      <td>0.0</td>\n",
       "      <td>0.0</td>\n",
       "      <td>0.0</td>\n",
       "      <td>0.00</td>\n",
       "      <td>0</td>\n",
       "      <td>0</td>\n",
       "      <td>22.0</td>\n",
       "      <td>10</td>\n",
       "      <td>0.0</td>\n",
       "    </tr>\n",
       "    <tr>\n",
       "      <th>4</th>\n",
       "      <td>28704634.0</td>\n",
       "      <td>0</td>\n",
       "      <td>1</td>\n",
       "      <td>0</td>\n",
       "      <td>0</td>\n",
       "      <td>1</td>\n",
       "      <td>0</td>\n",
       "      <td>1</td>\n",
       "      <td>1</td>\n",
       "      <td>0.0</td>\n",
       "      <td>0.0</td>\n",
       "      <td>1.0</td>\n",
       "      <td>0.0</td>\n",
       "      <td>0.00</td>\n",
       "      <td>0</td>\n",
       "      <td>0</td>\n",
       "      <td>22.0</td>\n",
       "      <td>10</td>\n",
       "      <td>0.0</td>\n",
       "    </tr>\n",
       "  </tbody>\n",
       "</table>\n",
       "</div>"
      ],
      "text/plain": [
       "       userid  currentbugroupname  contentid_count  basketdate_count  \\\n",
       "0  28704634.0                   8               18                 0   \n",
       "1  28704634.0                   5                1                 0   \n",
       "2  28704634.0                  10                1                 0   \n",
       "3  28704634.0                   9                1                 0   \n",
       "4  28704634.0                   0                1                 0   \n",
       "\n",
       "   favdate_count  visitdate_count  orderdate_count  brandid_count  \\\n",
       "0              0                4                1              8   \n",
       "1              0                0                0              1   \n",
       "2              0                0                0              1   \n",
       "3              0                0                0              1   \n",
       "4              0                1                0              1   \n",
       "\n",
       "   categoryname_count  addtobasket_count_sum  fav_count_sum  \\\n",
       "0                   3                    0.0            0.0   \n",
       "1                   1                    0.0            0.0   \n",
       "2                   1                    0.0            0.0   \n",
       "3                   1                    0.0            0.0   \n",
       "4                   1                    0.0            0.0   \n",
       "\n",
       "   productdetailcount_sum  quantity_sum  price_sum  target  gender   age  \\\n",
       "0                    42.0           3.0     162.15       1       0  22.0   \n",
       "1                     0.0           0.0       0.00       0       0  22.0   \n",
       "2                     0.0           0.0       0.00       0       0  22.0   \n",
       "3                     0.0           0.0       0.00       0       0  22.0   \n",
       "4                     1.0           0.0       0.00       0       0  22.0   \n",
       "\n",
       "   tenure  searchdate_count  \n",
       "0      10               3.0  \n",
       "1      10               2.0  \n",
       "2      10               0.0  \n",
       "3      10               0.0  \n",
       "4      10               0.0  "
      ]
     },
     "execution_count": 99,
     "metadata": {},
     "output_type": "execute_result"
    }
   ],
   "source": [
    "# a glimpse of final df_train\n",
    "df_train.head()"
   ]
  },
  {
   "cell_type": "code",
   "execution_count": 100,
   "id": "f34f6f03",
   "metadata": {},
   "outputs": [],
   "source": [
    "# the same procedure as for the train data\n",
    "merged_test = pd.merge(merged, df_test, on=['userid','currentbugroupname'], how='right')\n",
    "merged_test[['brandid','gender_product','age_product','title','categoryname','contentid']] = merged_test[['brandid',\n",
    "                                    'gender_product','age_product','title','categoryname','contentid']].fillna('UNKNOWN')\n",
    "\n",
    "temp_count = merged_test.groupby(['userid','currentbugroupname'])[['contentid','basketdate','favdate','visitdate','orderdate'\n",
    "                                                ,'brandid','categoryname']].nunique().add_suffix('_count').reset_index()\n",
    "\n",
    "temp_sum = merged_test.groupby(['userid','currentbugroupname'])[['addtobasket_count','fav_count','productdetailcount','orderdate'\n",
    "                                                            ,'quantity','price']].sum().add_suffix('_sum').reset_index()\n",
    "\n",
    "new_test = pd.merge(temp_count, temp_sum, on=['userid','currentbugroupname'])\n",
    "\n",
    "df_test = pd.merge(new_test, df_test, on=['userid','currentbugroupname'], how='right')\n",
    "df_test = pd.merge(df_test, df_demo, on=['userid'], how='left')\n",
    "df_test = pd.merge(df_test, df_search_term, on=['userid','currentbugroupname'], how='left')\n",
    "df_test.fillna(0, inplace=True)"
   ]
  },
  {
   "cell_type": "code",
   "execution_count": 101,
   "id": "1a2f373f",
   "metadata": {},
   "outputs": [],
   "source": [
    "# using the fitted label encoder to transform\n",
    "df_test['currentbugroupname'] = le_cgb.transform(df_test['currentbugroupname'])\n",
    "df_test['gender'] = le_gnd.transform(df_test['gender'])"
   ]
  },
  {
   "cell_type": "code",
   "execution_count": 102,
   "id": "ebd38be1",
   "metadata": {
    "scrolled": true
   },
   "outputs": [
    {
     "data": {
      "text/html": [
       "<div>\n",
       "<style scoped>\n",
       "    .dataframe tbody tr th:only-of-type {\n",
       "        vertical-align: middle;\n",
       "    }\n",
       "\n",
       "    .dataframe tbody tr th {\n",
       "        vertical-align: top;\n",
       "    }\n",
       "\n",
       "    .dataframe thead th {\n",
       "        text-align: right;\n",
       "    }\n",
       "</style>\n",
       "<table border=\"1\" class=\"dataframe\">\n",
       "  <thead>\n",
       "    <tr style=\"text-align: right;\">\n",
       "      <th></th>\n",
       "      <th>userid</th>\n",
       "      <th>currentbugroupname</th>\n",
       "      <th>contentid_count</th>\n",
       "      <th>basketdate_count</th>\n",
       "      <th>favdate_count</th>\n",
       "      <th>visitdate_count</th>\n",
       "      <th>orderdate_count</th>\n",
       "      <th>brandid_count</th>\n",
       "      <th>categoryname_count</th>\n",
       "      <th>addtobasket_count_sum</th>\n",
       "      <th>fav_count_sum</th>\n",
       "      <th>productdetailcount_sum</th>\n",
       "      <th>quantity_sum</th>\n",
       "      <th>price_sum</th>\n",
       "      <th>probability</th>\n",
       "      <th>target</th>\n",
       "      <th>gender</th>\n",
       "      <th>age</th>\n",
       "      <th>tenure</th>\n",
       "      <th>searchdate_count</th>\n",
       "    </tr>\n",
       "  </thead>\n",
       "  <tbody>\n",
       "    <tr>\n",
       "      <th>0</th>\n",
       "      <td>20152944</td>\n",
       "      <td>11</td>\n",
       "      <td>50</td>\n",
       "      <td>0</td>\n",
       "      <td>1</td>\n",
       "      <td>8</td>\n",
       "      <td>1</td>\n",
       "      <td>2</td>\n",
       "      <td>9</td>\n",
       "      <td>0.0</td>\n",
       "      <td>7.0</td>\n",
       "      <td>100.0</td>\n",
       "      <td>4.0</td>\n",
       "      <td>169.98</td>\n",
       "      <td>0.0</td>\n",
       "      <td>0.0</td>\n",
       "      <td>1</td>\n",
       "      <td>25.0</td>\n",
       "      <td>21</td>\n",
       "      <td>0.0</td>\n",
       "    </tr>\n",
       "    <tr>\n",
       "      <th>1</th>\n",
       "      <td>6662068</td>\n",
       "      <td>11</td>\n",
       "      <td>14</td>\n",
       "      <td>0</td>\n",
       "      <td>0</td>\n",
       "      <td>5</td>\n",
       "      <td>1</td>\n",
       "      <td>1</td>\n",
       "      <td>7</td>\n",
       "      <td>0.0</td>\n",
       "      <td>0.0</td>\n",
       "      <td>44.0</td>\n",
       "      <td>2.0</td>\n",
       "      <td>219.98</td>\n",
       "      <td>0.0</td>\n",
       "      <td>0.0</td>\n",
       "      <td>1</td>\n",
       "      <td>0.0</td>\n",
       "      <td>104</td>\n",
       "      <td>0.0</td>\n",
       "    </tr>\n",
       "    <tr>\n",
       "      <th>2</th>\n",
       "      <td>11941706</td>\n",
       "      <td>11</td>\n",
       "      <td>91</td>\n",
       "      <td>0</td>\n",
       "      <td>0</td>\n",
       "      <td>12</td>\n",
       "      <td>1</td>\n",
       "      <td>2</td>\n",
       "      <td>18</td>\n",
       "      <td>0.0</td>\n",
       "      <td>0.0</td>\n",
       "      <td>156.0</td>\n",
       "      <td>2.0</td>\n",
       "      <td>159.98</td>\n",
       "      <td>0.0</td>\n",
       "      <td>0.0</td>\n",
       "      <td>1</td>\n",
       "      <td>0.0</td>\n",
       "      <td>55</td>\n",
       "      <td>0.0</td>\n",
       "    </tr>\n",
       "    <tr>\n",
       "      <th>3</th>\n",
       "      <td>12406170</td>\n",
       "      <td>11</td>\n",
       "      <td>1</td>\n",
       "      <td>0</td>\n",
       "      <td>0</td>\n",
       "      <td>0</td>\n",
       "      <td>0</td>\n",
       "      <td>1</td>\n",
       "      <td>1</td>\n",
       "      <td>0.0</td>\n",
       "      <td>0.0</td>\n",
       "      <td>0.0</td>\n",
       "      <td>0.0</td>\n",
       "      <td>0.00</td>\n",
       "      <td>0.0</td>\n",
       "      <td>0.0</td>\n",
       "      <td>1</td>\n",
       "      <td>120.0</td>\n",
       "      <td>50</td>\n",
       "      <td>0.0</td>\n",
       "    </tr>\n",
       "    <tr>\n",
       "      <th>4</th>\n",
       "      <td>20939786</td>\n",
       "      <td>11</td>\n",
       "      <td>3</td>\n",
       "      <td>0</td>\n",
       "      <td>0</td>\n",
       "      <td>2</td>\n",
       "      <td>0</td>\n",
       "      <td>1</td>\n",
       "      <td>3</td>\n",
       "      <td>0.0</td>\n",
       "      <td>0.0</td>\n",
       "      <td>8.0</td>\n",
       "      <td>0.0</td>\n",
       "      <td>0.00</td>\n",
       "      <td>0.0</td>\n",
       "      <td>0.0</td>\n",
       "      <td>0</td>\n",
       "      <td>120.0</td>\n",
       "      <td>19</td>\n",
       "      <td>0.0</td>\n",
       "    </tr>\n",
       "  </tbody>\n",
       "</table>\n",
       "</div>"
      ],
      "text/plain": [
       "     userid  currentbugroupname  contentid_count  basketdate_count  \\\n",
       "0  20152944                  11               50                 0   \n",
       "1   6662068                  11               14                 0   \n",
       "2  11941706                  11               91                 0   \n",
       "3  12406170                  11                1                 0   \n",
       "4  20939786                  11                3                 0   \n",
       "\n",
       "   favdate_count  visitdate_count  orderdate_count  brandid_count  \\\n",
       "0              1                8                1              2   \n",
       "1              0                5                1              1   \n",
       "2              0               12                1              2   \n",
       "3              0                0                0              1   \n",
       "4              0                2                0              1   \n",
       "\n",
       "   categoryname_count  addtobasket_count_sum  fav_count_sum  \\\n",
       "0                   9                    0.0            7.0   \n",
       "1                   7                    0.0            0.0   \n",
       "2                  18                    0.0            0.0   \n",
       "3                   1                    0.0            0.0   \n",
       "4                   3                    0.0            0.0   \n",
       "\n",
       "   productdetailcount_sum  quantity_sum  price_sum  probability  target  \\\n",
       "0                   100.0           4.0     169.98          0.0     0.0   \n",
       "1                    44.0           2.0     219.98          0.0     0.0   \n",
       "2                   156.0           2.0     159.98          0.0     0.0   \n",
       "3                     0.0           0.0       0.00          0.0     0.0   \n",
       "4                     8.0           0.0       0.00          0.0     0.0   \n",
       "\n",
       "   gender    age  tenure  searchdate_count  \n",
       "0       1   25.0      21               0.0  \n",
       "1       1    0.0     104               0.0  \n",
       "2       1    0.0      55               0.0  \n",
       "3       1  120.0      50               0.0  \n",
       "4       0  120.0      19               0.0  "
      ]
     },
     "execution_count": 102,
     "metadata": {},
     "output_type": "execute_result"
    }
   ],
   "source": [
    "# a glimpse of final df_test\n",
    "df_test.head()"
   ]
  },
  {
   "cell_type": "code",
   "execution_count": 103,
   "id": "cc36f0fc",
   "metadata": {},
   "outputs": [],
   "source": [
    "# df_train.to_csv('df_train_final.csv', index=False)"
   ]
  },
  {
   "cell_type": "code",
   "execution_count": 104,
   "id": "2d3f40b3",
   "metadata": {},
   "outputs": [],
   "source": [
    "# df_test.to_csv('df_test_final.csv', index=False)"
   ]
  },
  {
   "cell_type": "markdown",
   "id": "d6e54a5a",
   "metadata": {},
   "source": [
    "## 3. Modeling"
   ]
  },
  {
   "cell_type": "markdown",
   "id": "8ccc5c09",
   "metadata": {},
   "source": [
    "### 3.1. 5-Fold CrossValidation"
   ]
  },
  {
   "cell_type": "code",
   "execution_count": 105,
   "id": "5b6fbe4a",
   "metadata": {},
   "outputs": [],
   "source": [
    "import random\n",
    "\n",
    "# splitting the unique userids into five random samples\n",
    "unique_users = df_train.userid.unique()\n",
    "\n",
    "def population_sampler(population, k):\n",
    "    random.shuffle(population)\n",
    "    return [population[i::k] for i in range(k)]\n",
    "\n",
    "folds = population_sampler(unique_users, 5)"
   ]
  },
  {
   "cell_type": "code",
   "execution_count": 106,
   "id": "670fb6d7",
   "metadata": {},
   "outputs": [
    {
     "name": "stdout",
     "output_type": "stream",
     "text": [
      " \n",
      "Training on fold-1...\n",
      "\n",
      "              precision    recall  f1-score   support\n",
      "\n",
      "           0       0.96      0.70      0.81    218218\n",
      "           1       0.17      0.66      0.27     19838\n",
      "\n",
      "    accuracy                           0.70    238056\n",
      "   macro avg       0.56      0.68      0.54    238056\n",
      "weighted avg       0.89      0.70      0.76    238056\n",
      "\n",
      "ROC_AUC Score : 0.683 \t\n",
      "-------------------------------------------------------\n",
      " \n",
      "Training on fold-2...\n",
      "\n",
      "              precision    recall  f1-score   support\n",
      "\n",
      "           0       0.96      0.70      0.81    217987\n",
      "           1       0.17      0.67      0.27     19817\n",
      "\n",
      "    accuracy                           0.70    237804\n",
      "   macro avg       0.56      0.68      0.54    237804\n",
      "weighted avg       0.89      0.70      0.76    237804\n",
      "\n",
      "ROC_AUC Score : 0.685 \t\n",
      "-------------------------------------------------------\n",
      " \n",
      "Training on fold-3...\n",
      "\n",
      "              precision    recall  f1-score   support\n",
      "\n",
      "           0       0.96      0.71      0.81    216524\n",
      "           1       0.17      0.65      0.27     19684\n",
      "\n",
      "    accuracy                           0.70    236208\n",
      "   macro avg       0.56      0.68      0.54    236208\n",
      "weighted avg       0.89      0.70      0.77    236208\n",
      "\n",
      "ROC_AUC Score : 0.679 \t\n",
      "-------------------------------------------------------\n",
      " \n",
      "Training on fold-4...\n",
      "\n",
      "              precision    recall  f1-score   support\n",
      "\n",
      "           0       0.96      0.70      0.81    217360\n",
      "           1       0.17      0.67      0.27     19760\n",
      "\n",
      "    accuracy                           0.70    237120\n",
      "   macro avg       0.56      0.68      0.54    237120\n",
      "weighted avg       0.89      0.70      0.76    237120\n",
      "\n",
      "ROC_AUC Score : 0.683 \t\n",
      "-------------------------------------------------------\n",
      " \n",
      "Training on fold-5...\n",
      "\n",
      "              precision    recall  f1-score   support\n",
      "\n",
      "           0       0.96      0.70      0.81    218207\n",
      "           1       0.17      0.67      0.27     19837\n",
      "\n",
      "    accuracy                           0.70    238044\n",
      "   macro avg       0.56      0.68      0.54    238044\n",
      "weighted avg       0.89      0.70      0.77    238044\n",
      "\n",
      "ROC_AUC Score : 0.684 \t\n",
      "-------------------------------------------------------\n"
     ]
    }
   ],
   "source": [
    "from imblearn.pipeline import Pipeline\n",
    "from imblearn.over_sampling import SMOTE, RandomOverSampler, SVMSMOTE\n",
    "from imblearn.under_sampling import RandomUnderSampler, TomekLinks, RepeatedEditedNearestNeighbours\n",
    "from catboost import CatBoostClassifier, Pool\n",
    "from sklearn.metrics import classification_report\n",
    "from sklearn.metrics import roc_auc_score as auc\n",
    "from lightgbm import LGBMClassifier\n",
    "from sklearn.ensemble import HistGradientBoostingClassifier\n",
    "from sklearn.ensemble import StackingClassifier, VotingClassifier\n",
    "\n",
    "\n",
    "# using VotingClassifier with softvoting with tree models within \n",
    "estimators = [('lgbm', LGBMClassifier(verbose=-1)), \n",
    "             ('catboost', CatBoostClassifier(verbose=False)),\n",
    "             ('hgbc', HistGradientBoostingClassifier())]\n",
    "\n",
    "i = 1\n",
    "for fold in folds:\n",
    "    print (' ')\n",
    "    print('Training on fold-%s...\\n'%i)\n",
    "    # in each fold we get the data for those unique userids in the fold.\n",
    "    train = df_train[df_train.userid.isin(fold)]\n",
    "    test = df_train[~(df_train.userid.isin(fold))]\n",
    "\n",
    "    X_train = train.drop(['target','userid'], axis=1)\n",
    "    y_train = train.target\n",
    "\n",
    "    X_test = test.drop(['target','userid'], axis=1)\n",
    "    y_test = test.target\n",
    "\n",
    "    # after multiple trials using differnet methods in order to overcome unbalaned data, \n",
    "    # the RandomOverSampler was used for oversampling the minority class (class 0), and \n",
    "    # RepeatedEditedNearestNeighbours algorithm was considered for undersampling the majority class. \n",
    "    over = RandomOverSampler(sampling_strategy=0.6)\n",
    "    under = RepeatedEditedNearestNeighbours(sampling_strategy='majority',kind_sel='all')\n",
    "    # constructing the pipline\n",
    "    steps = [('over', over), ('under', under)]\n",
    "    pipeline = Pipeline(steps=steps)\n",
    "    X_train_over, y_train_over = pipeline.fit_resample(X_train, y_train)\n",
    "\n",
    "    vc = VotingClassifier(estimators=estimators, voting='soft')\n",
    "    vc.fit(X_train_over, y_train_over)\n",
    "    y_hat = vc.predict(X_test)\n",
    "\n",
    "    print(classification_report(y_test, y_hat))\n",
    "    print('ROC_AUC Score : %.3f \\t'%auc(y_test, y_hat))\n",
    "    print('-'*55)\n",
    "    i += 1"
   ]
  },
  {
   "cell_type": "markdown",
   "id": "4ef998af",
   "metadata": {},
   "source": [
    " "
   ]
  },
  {
   "cell_type": "code",
   "execution_count": 107,
   "id": "778a59f9",
   "metadata": {},
   "outputs": [
    {
     "data": {
      "image/png": "[encoded data removed]",
      "text/plain": [
       "<Figure size 432x288 with 1 Axes>"
      ]
     },
     "metadata": {
      "needs_background": "light"
     },
     "output_type": "display_data"
    }
   ],
   "source": [
    "y_train.value_counts().plot(kind='bar', title='Count (target)');"
   ]
  },
  {
   "cell_type": "markdown",
   "id": "08386133",
   "metadata": {},
   "source": [
    "* The number of classes in the last fold before performing oversampling and undersampling"
   ]
  },
  {
   "cell_type": "code",
   "execution_count": 108,
   "id": "80667903",
   "metadata": {},
   "outputs": [
    {
     "data": {
      "image/png": "[encoded data removed]",
      "text/plain": [
       "<Figure size 432x288 with 1 Axes>"
      ]
     },
     "metadata": {
      "needs_background": "light"
     },
     "output_type": "display_data"
    }
   ],
   "source": [
    "y_train_over.value_counts().plot(kind='bar', title='Count (target)');"
   ]
  },
  {
   "cell_type": "markdown",
   "id": "546bdf81",
   "metadata": {},
   "source": [
    "* The number of classes in the last fold after performing oversampling and undersampling"
   ]
  },
  {
   "cell_type": "markdown",
   "id": "1cf769a2",
   "metadata": {},
   "source": [
    "### 3.2 Feature Importance using on one of the folds"
   ]
  },
  {
   "cell_type": "code",
   "execution_count": 109,
   "id": "37c1ad72",
   "metadata": {},
   "outputs": [
    {
     "data": {
      "text/html": [
       "<div>\n",
       "<style scoped>\n",
       "    .dataframe tbody tr th:only-of-type {\n",
       "        vertical-align: middle;\n",
       "    }\n",
       "\n",
       "    .dataframe tbody tr th {\n",
       "        vertical-align: top;\n",
       "    }\n",
       "\n",
       "    .dataframe thead th {\n",
       "        text-align: right;\n",
       "    }\n",
       "</style>\n",
       "<table border=\"1\" class=\"dataframe\">\n",
       "  <thead>\n",
       "    <tr style=\"text-align: right;\">\n",
       "      <th></th>\n",
       "      <th>feature_importance</th>\n",
       "      <th>feature_names</th>\n",
       "    </tr>\n",
       "  </thead>\n",
       "  <tbody>\n",
       "    <tr>\n",
       "      <th>0</th>\n",
       "      <td>30.421066</td>\n",
       "      <td>currentbugroupname</td>\n",
       "    </tr>\n",
       "    <tr>\n",
       "      <th>15</th>\n",
       "      <td>10.932698</td>\n",
       "      <td>tenure</td>\n",
       "    </tr>\n",
       "    <tr>\n",
       "      <th>10</th>\n",
       "      <td>10.088185</td>\n",
       "      <td>productdetailcount_sum</td>\n",
       "    </tr>\n",
       "    <tr>\n",
       "      <th>1</th>\n",
       "      <td>9.781868</td>\n",
       "      <td>contentid_count</td>\n",
       "    </tr>\n",
       "    <tr>\n",
       "      <th>14</th>\n",
       "      <td>6.151377</td>\n",
       "      <td>age</td>\n",
       "    </tr>\n",
       "    <tr>\n",
       "      <th>12</th>\n",
       "      <td>5.385649</td>\n",
       "      <td>price_sum</td>\n",
       "    </tr>\n",
       "    <tr>\n",
       "      <th>7</th>\n",
       "      <td>4.901108</td>\n",
       "      <td>categoryname_count</td>\n",
       "    </tr>\n",
       "    <tr>\n",
       "      <th>6</th>\n",
       "      <td>4.685672</td>\n",
       "      <td>brandid_count</td>\n",
       "    </tr>\n",
       "    <tr>\n",
       "      <th>4</th>\n",
       "      <td>4.436376</td>\n",
       "      <td>visitdate_count</td>\n",
       "    </tr>\n",
       "    <tr>\n",
       "      <th>16</th>\n",
       "      <td>3.909770</td>\n",
       "      <td>searchdate_count</td>\n",
       "    </tr>\n",
       "    <tr>\n",
       "      <th>11</th>\n",
       "      <td>2.888165</td>\n",
       "      <td>quantity_sum</td>\n",
       "    </tr>\n",
       "    <tr>\n",
       "      <th>9</th>\n",
       "      <td>2.149484</td>\n",
       "      <td>fav_count_sum</td>\n",
       "    </tr>\n",
       "    <tr>\n",
       "      <th>13</th>\n",
       "      <td>1.683940</td>\n",
       "      <td>gender</td>\n",
       "    </tr>\n",
       "    <tr>\n",
       "      <th>5</th>\n",
       "      <td>1.406984</td>\n",
       "      <td>orderdate_count</td>\n",
       "    </tr>\n",
       "    <tr>\n",
       "      <th>3</th>\n",
       "      <td>0.976758</td>\n",
       "      <td>favdate_count</td>\n",
       "    </tr>\n",
       "    <tr>\n",
       "      <th>2</th>\n",
       "      <td>0.103281</td>\n",
       "      <td>basketdate_count</td>\n",
       "    </tr>\n",
       "    <tr>\n",
       "      <th>8</th>\n",
       "      <td>0.097617</td>\n",
       "      <td>addtobasket_count_sum</td>\n",
       "    </tr>\n",
       "  </tbody>\n",
       "</table>\n",
       "</div>"
      ],
      "text/plain": [
       "    feature_importance           feature_names\n",
       "0            30.421066      currentbugroupname\n",
       "15           10.932698                  tenure\n",
       "10           10.088185  productdetailcount_sum\n",
       "1             9.781868         contentid_count\n",
       "14            6.151377                     age\n",
       "12            5.385649               price_sum\n",
       "7             4.901108      categoryname_count\n",
       "6             4.685672           brandid_count\n",
       "4             4.436376         visitdate_count\n",
       "16            3.909770        searchdate_count\n",
       "11            2.888165            quantity_sum\n",
       "9             2.149484           fav_count_sum\n",
       "13            1.683940                  gender\n",
       "5             1.406984         orderdate_count\n",
       "3             0.976758           favdate_count\n",
       "2             0.103281        basketdate_count\n",
       "8             0.097617   addtobasket_count_sum"
      ]
     },
     "execution_count": 109,
     "metadata": {},
     "output_type": "execute_result"
    }
   ],
   "source": [
    "# Feature importance on the last fold using CatBoostClassifier\n",
    "cbc = CatBoostClassifier(verbose=False)\n",
    "pool_train = Pool(X_train_over, y_train_over)\n",
    "pool_test = Pool(X_test)\n",
    "cbc.fit(pool_train)\n",
    "\n",
    "importance = pd.DataFrame({'feature_importance': cbc.get_feature_importance(pool_train), \n",
    "              'feature_names': X_train_over.columns}).sort_values(by=['feature_importance'], ascending=False)\n",
    "importance"
   ]
  },
  {
   "cell_type": "markdown",
   "id": "444d463a",
   "metadata": {},
   "source": [
    "### 4. Prediction"
   ]
  },
  {
   "cell_type": "code",
   "execution_count": 110,
   "id": "383f7cf8",
   "metadata": {},
   "outputs": [],
   "source": [
    "# considering df_train and df_test;\n",
    "X = df_train.drop(['target','userid'], axis=1)\n",
    "y = df_train.target\n",
    "\n",
    "X_test = df_test.drop(['probability','target','userid'], axis=1)"
   ]
  },
  {
   "cell_type": "code",
   "execution_count": 111,
   "id": "eb4cdf61",
   "metadata": {},
   "outputs": [
    {
     "data": {
      "image/png": "[encoded data removed]",
      "text/plain": [
       "<Figure size 432x288 with 1 Axes>"
      ]
     },
     "metadata": {
      "needs_background": "light"
     },
     "output_type": "display_data"
    }
   ],
   "source": [
    "y.value_counts().plot(kind='bar', title='Count (target)');"
   ]
  },
  {
   "cell_type": "markdown",
   "id": "7140e8eb",
   "metadata": {},
   "source": [
    "* The number of classes in the train set before performing oversampling and undersampling"
   ]
  },
  {
   "cell_type": "code",
   "execution_count": 123,
   "id": "931fcc46",
   "metadata": {},
   "outputs": [],
   "source": [
    "# handling unbalanced classes problem in the train data\n",
    "over = RandomOverSampler(sampling_strategy=0.6)\n",
    "under = RepeatedEditedNearestNeighbours(sampling_strategy='majority',kind_sel='all')\n",
    "steps = [('over', over), ('under', under)]\n",
    "pipeline = Pipeline(steps=steps)\n",
    "X_over, y_over = pipeline.fit_resample(X, y)"
   ]
  },
  {
   "cell_type": "code",
   "execution_count": 124,
   "id": "552eb822",
   "metadata": {},
   "outputs": [
    {
     "data": {
      "image/png": "[encoded data removed]",
      "text/plain": [
       "<Figure size 432x288 with 1 Axes>"
      ]
     },
     "metadata": {
      "needs_background": "light"
     },
     "output_type": "display_data"
    }
   ],
   "source": [
    "y_over.value_counts().plot(kind='bar', title='Count (target)');"
   ]
  },
  {
   "cell_type": "markdown",
   "id": "a8406c9d",
   "metadata": {},
   "source": [
    "* The number of classes in the train set after performing oversampling and undersampling"
   ]
  },
  {
   "cell_type": "code",
   "execution_count": 125,
   "id": "96251d09",
   "metadata": {},
   "outputs": [],
   "source": [
    "# using the same VotingClassifier for final predictions\n",
    "vc = VotingClassifier(estimators=estimators, voting='soft')\n",
    "vc.fit(X_over, y_over)\n",
    "# getting the predictions\n",
    "y_hat = vc.predict(X_test)\n",
    "# getting the probability\n",
    "y_proba = vc.predict_proba(X_test)"
   ]
  },
  {
   "cell_type": "code",
   "execution_count": 126,
   "id": "b6e06b1c",
   "metadata": {},
   "outputs": [],
   "source": [
    "# constructing the final table\n",
    "temp_pred = pd.DataFrame(y_proba, columns = cbc.classes_)\n",
    "temp_pred['pred'] = y_hat\n",
    "temp_pred['probability'] = temp_pred.apply(lambda x: x[x.pred], axis=1)\n",
    "\n",
    "results = df_test[['userid','currentbugroupname']].copy()\n",
    "results['probability'] = temp_pred['probability'].copy()\n",
    "results['target'] = temp_pred['pred'].copy()\n",
    "# le_cgb = joblib.load('le_cgb.pkl')\n",
    "results['currentbugroupname'] = le_cgb.inverse_transform(results['currentbugroupname'])"
   ]
  },
  {
   "cell_type": "code",
   "execution_count": 134,
   "id": "b19b25fb",
   "metadata": {},
   "outputs": [],
   "source": [
    "results.to_csv('predictions.csv', index=False)"
   ]
  },
  {
   "cell_type": "code",
   "execution_count": null,
   "id": "f5f0aa9a",
   "metadata": {},
   "outputs": [],
   "source": []
  }
 ],
 "metadata": {
  "kernelspec": {
   "display_name": "Python 3 (ipykernel)",
   "language": "python",
   "name": "python3"
  },
  "language_info": {
   "codemirror_mode": {
    "name": "ipython",
    "version": 3
   },
   "file_extension": ".py",
   "mimetype": "text/x-python",
   "name": "python",
   "nbconvert_exporter": "python",
   "pygments_lexer": "ipython3",
   "version": "3.9.7"
  }
 },
 "nbformat": 4,
 "nbformat_minor": 5
}
